{
 "cells": [
  {
   "cell_type": "code",
   "execution_count": 70,
   "metadata": {},
   "outputs": [],
   "source": [
    "%reload_ext autoreload\n",
    "%autoreload 2\n",
    "\n",
    "import os\n",
    "import shutil\n",
    "from tqdm import tqdm\n",
    "\n",
    "import matplotlib.pyplot as plt\n",
    "\n",
    "from utils import get_all_words"
   ]
  },
  {
   "cell_type": "code",
   "execution_count": null,
   "metadata": {},
   "outputs": [],
   "source": [
    "def split_datasets(word: dict):\n",
    "    audio_folder = '../datasets/raw'\n",
    "    output_audio_folder = '../datasets/split'\n",
    "    if not os.path.exists(output_audio_folder):\n",
    "        os.makedirs(output_audio_folder)\n",
    "\n",
    "    # Get all subfolders inside 'datasets'\n",
    "    sub_folders = [os.path.join(audio_folder, sub_folder) for sub_folder in os.listdir(audio_folder)]\n",
    "\n",
    "    # Iterate through all subfolders and collect '.wav' files\n",
    "    wav_files = []\n",
    "    for sub_folder in sub_folders:\n",
    "        if os.path.isdir(sub_folder):  # Check if it's a folder\n",
    "            wav_files.extend(\n",
    "                [os.path.join(sub_folder, file) for file in os.listdir(sub_folder) if file.endswith('.wav')]\n",
    "            )\n",
    "\n",
    "    # Filter files based on the word (if desired)\n",
    "    word_search = str(word[\"id\"]).zfill(2)\n",
    "    word_files = [file for file in wav_files if word_search in os.path.basename(file)]\n",
    "\n",
    "    for file in tqdm(word_files, f\"Đang tạo thư mục cho từ {word['word']} ({word['word_vn']})\"):\n",
    "        # Create the destination folder\n",
    "        destination_folder = os.path.join(output_audio_folder, word[\"word\"])\n",
    "        if not os.path.exists(destination_folder):\n",
    "            os.makedirs(destination_folder)\n",
    "\n",
    "        # Copy the file to the destination folder\n",
    "        destination_file = os.path.join(destination_folder, os.path.basename(file))\n",
    "        try:\n",
    "            shutil.copy(file, destination_file)\n",
    "        except Exception as e:\n",
    "            # print(f\"Error copying {file} to {destination_file}: {e}\")\n",
    "            pass"
   ]
  },
  {
   "cell_type": "code",
   "execution_count": 72,
   "metadata": {},
   "outputs": [
    {
     "name": "stdout",
     "output_type": "stream",
     "text": [
      "[{'id': 1, 'word': 'chu', 'word_vn': 'chủ'}, {'id': 2, 'word': 've', 'word_vn': 'về'}, {'id': 3, 'word': 'vao', 'word_vn': 'vào'}, {'id': 4, 'word': 'tai', 'word_vn': 'tải'}, {'id': 5, 'word': 'dau', 'word_vn': 'đầu'}, {'id': 6, 'word': 'cuoi', 'word_vn': 'cuối'}, {'id': 7, 'word': 'ke', 'word_vn': 'kế'}, {'id': 8, 'word': 'truoc', 'word_vn': 'trước'}, {'id': 9, 'word': 'dung', 'word_vn': 'dừng'}, {'id': 10, 'word': 'ngung', 'word_vn': 'ngừng'}, {'id': 11, 'word': 'doc', 'word_vn': 'đọc'}, {'id': 12, 'word': 'tiep', 'word_vn': 'tiếp'}, {'id': 13, 'word': 'lui', 'word_vn': 'lui'}, {'id': 14, 'word': 'toi', 'word_vn': 'tới'}, {'id': 15, 'word': 'tang', 'word_vn': 'tăng'}, {'id': 16, 'word': 'to', 'word_vn': 'to'}, {'id': 17, 'word': 'giam', 'word_vn': 'giảm'}, {'id': 18, 'word': 'nho', 'word_vn': 'nhỏ'}, {'id': 19, 'word': 'lai', 'word_vn': 'lại'}, {'id': 20, 'word': 'lap', 'word_vn': 'lặp'}, {'id': 21, 'word': 'nhanh', 'word_vn': 'nhanh'}, {'id': 22, 'word': 'cham', 'word_vn': 'chậm'}, {'id': 23, 'word': 'luu', 'word_vn': 'lưu'}, {'id': 24, 'word': 'xoa', 'word_vn': 'xóa'}, {'id': 25, 'word': 'huy', 'word_vn': 'hủy'}, {'id': 26, 'word': 'chay', 'word_vn': 'chạy'}, {'id': 27, 'word': 'xong', 'word_vn': 'xong'}, {'id': 28, 'word': 'ddung', 'word_vn': 'đúng'}, {'id': 29, 'word': 'sai', 'word_vn': 'sai'}, {'id': 30, 'word': 'giup', 'word_vn': 'giúp'}, {'id': 31, 'word': 'gio', 'word_vn': 'giờ'}, {'id': 32, 'word': 'ngay', 'word_vn': 'ngày'}, {'id': 33, 'word': 'tuoi', 'word_vn': 'tươi'}, {'id': 34, 'word': 'co', 'word_vn': 'có'}, {'id': 35, 'word': 'khong', 'word_vn': 'không'}, {'id': 36, 'word': 'muc', 'word_vn': 'mục'}, {'id': 37, 'word': 'bai', 'word_vn': 'bài'}, {'id': 38, 'word': 'mot', 'word_vn': 'một'}, {'id': 39, 'word': 'hai', 'word_vn': 'hai'}, {'id': 40, 'word': 'ba', 'word_vn': 'ba'}, {'id': 41, 'word': 'bon', 'word_vn': 'bốn'}, {'id': 42, 'word': 'nam', 'word_vn': 'năm'}, {'id': 43, 'word': 'sau', 'word_vn': 'sáu'}, {'id': 44, 'word': 'bay', 'word_vn': 'bảy'}, {'id': 45, 'word': 'tam', 'word_vn': 'tám'}, {'id': 46, 'word': 'chin', 'word_vn': 'chín'}, {'id': 47, 'word': 'a', 'word_vn': 'a'}, {'id': 48, 'word': 'e', 'word_vn': 'e'}, {'id': 49, 'word': 'i', 'word_vn': 'i'}, {'id': 50, 'word': 'o', 'word_vn': 'o'}, {'id': 51, 'word': 'u', 'word_vn': 'u'}, {'id': 52, 'word': 'thodia', 'word_vn': 'Thổ địa'}]\n"
     ]
    }
   ],
   "source": [
    "print(get_all_words())"
   ]
  },
  {
   "cell_type": "code",
   "execution_count": 73,
   "metadata": {},
   "outputs": [
    {
     "name": "stderr",
     "output_type": "stream",
     "text": [
      "Đang tạo thư mục cho từ chu (chủ): 100%|██████████| 20/20 [00:00<00:00, 1447.01it/s]\n",
      "Đang tạo thư mục cho từ ve (về): 100%|██████████| 20/20 [00:00<00:00, 909.54it/s]\n",
      "Đang tạo thư mục cho từ vao (vào): 100%|██████████| 20/20 [00:00<00:00, 1001.90it/s]\n",
      "Đang tạo thư mục cho từ tai (tải): 100%|██████████| 20/20 [00:00<00:00, 1234.44it/s]\n",
      "Đang tạo thư mục cho từ dau (đầu): 100%|██████████| 20/20 [00:00<00:00, 731.96it/s]\n",
      "Đang tạo thư mục cho từ cuoi (cuối): 100%|██████████| 20/20 [00:00<00:00, 949.65it/s]\n",
      "Đang tạo thư mục cho từ ke (kế): 100%|██████████| 20/20 [00:00<00:00, 830.08it/s]\n",
      "Đang tạo thư mục cho từ truoc (trước): 100%|██████████| 20/20 [00:00<00:00, 894.75it/s]\n",
      "Đang tạo thư mục cho từ dung (dừng): 100%|██████████| 20/20 [00:00<00:00, 1335.57it/s]\n",
      "Đang tạo thư mục cho từ ngung (ngừng): 100%|██████████| 20/20 [00:00<00:00, 1487.18it/s]\n",
      "Đang tạo thư mục cho từ doc (đọc): 100%|██████████| 20/20 [00:00<00:00, 794.06it/s]\n",
      "Đang tạo thư mục cho từ tiep (tiếp): 100%|██████████| 20/20 [00:00<00:00, 696.03it/s]\n",
      "Đang tạo thư mục cho từ lui (lui): 100%|██████████| 20/20 [00:00<00:00, 1295.74it/s]\n",
      "Đang tạo thư mục cho từ toi (tới): 100%|██████████| 20/20 [00:00<00:00, 1365.71it/s]\n",
      "Đang tạo thư mục cho từ tang (tăng): 100%|██████████| 20/20 [00:00<00:00, 1215.93it/s]\n",
      "Đang tạo thư mục cho từ to (to): 100%|██████████| 20/20 [00:00<00:00, 1266.20it/s]\n",
      "Đang tạo thư mục cho từ giam (giảm): 100%|██████████| 20/20 [00:00<00:00, 1019.69it/s]\n",
      "Đang tạo thư mục cho từ nho (nhỏ): 100%|██████████| 20/20 [00:00<00:00, 1018.90it/s]\n",
      "Đang tạo thư mục cho từ lai (lại): 100%|██████████| 20/20 [00:00<00:00, 1188.68it/s]\n",
      "Đang tạo thư mục cho từ lap (lặp): 100%|██████████| 20/20 [00:00<00:00, 1012.22it/s]\n",
      "Đang tạo thư mục cho từ nhanh (nhanh): 100%|██████████| 20/20 [00:00<00:00, 785.29it/s]\n",
      "Đang tạo thư mục cho từ cham (chậm): 100%|██████████| 20/20 [00:00<00:00, 1195.16it/s]\n",
      "Đang tạo thư mục cho từ luu (lưu): 100%|██████████| 20/20 [00:00<00:00, 866.00it/s]\n",
      "Đang tạo thư mục cho từ xoa (xóa): 100%|██████████| 20/20 [00:00<00:00, 1041.02it/s]\n",
      "Đang tạo thư mục cho từ huy (hủy): 100%|██████████| 20/20 [00:00<00:00, 1397.85it/s]\n",
      "Đang tạo thư mục cho từ chay (chạy): 100%|██████████| 20/20 [00:00<00:00, 285.26it/s]\n",
      "Đang tạo thư mục cho từ xong (xong): 100%|██████████| 20/20 [00:00<00:00, 606.30it/s]\n",
      "Đang tạo thư mục cho từ ddung (đúng): 100%|██████████| 20/20 [00:00<00:00, 805.95it/s]\n",
      "Đang tạo thư mục cho từ sai (sai): 100%|██████████| 20/20 [00:00<00:00, 737.72it/s]\n",
      "Đang tạo thư mục cho từ giup (giúp): 100%|██████████| 20/20 [00:00<00:00, 1078.02it/s]\n",
      "Đang tạo thư mục cho từ gio (giờ): 100%|██████████| 20/20 [00:00<00:00, 269.98it/s]\n",
      "Đang tạo thư mục cho từ ngay (ngày): 100%|██████████| 20/20 [00:00<00:00, 581.88it/s]\n",
      "Đang tạo thư mục cho từ tuoi (tươi): 100%|██████████| 20/20 [00:00<00:00, 1027.10it/s]\n",
      "Đang tạo thư mục cho từ co (có): 100%|██████████| 20/20 [00:00<00:00, 958.35it/s]\n",
      "Đang tạo thư mục cho từ khong (không): 100%|██████████| 20/20 [00:00<00:00, 910.65it/s]\n",
      "Đang tạo thư mục cho từ muc (mục): 100%|██████████| 20/20 [00:00<00:00, 1086.58it/s]\n",
      "Đang tạo thư mục cho từ bai (bài): 100%|██████████| 20/20 [00:00<00:00, 1193.58it/s]\n",
      "Đang tạo thư mục cho từ mot (một): 100%|██████████| 20/20 [00:00<00:00, 1160.52it/s]\n",
      "Đang tạo thư mục cho từ hai (hai): 100%|██████████| 20/20 [00:00<00:00, 1041.26it/s]\n",
      "Đang tạo thư mục cho từ ba (ba): 100%|██████████| 20/20 [00:00<00:00, 1062.01it/s]\n",
      "Đang tạo thư mục cho từ bon (bốn): 100%|██████████| 20/20 [00:00<00:00, 1094.30it/s]\n",
      "Đang tạo thư mục cho từ nam (năm): 100%|██████████| 20/20 [00:00<00:00, 933.02it/s]\n",
      "Đang tạo thư mục cho từ sau (sáu): 100%|██████████| 20/20 [00:00<00:00, 547.07it/s]\n",
      "Đang tạo thư mục cho từ bay (bảy): 100%|██████████| 20/20 [00:00<00:00, 1006.49it/s]\n",
      "Đang tạo thư mục cho từ tam (tám): 100%|██████████| 20/20 [00:00<00:00, 1010.43it/s]\n",
      "Đang tạo thư mục cho từ chin (chín): 100%|██████████| 20/20 [00:00<00:00, 400.00it/s]\n",
      "Đang tạo thư mục cho từ a (a): 100%|██████████| 20/20 [00:00<00:00, 565.51it/s]\n",
      "Đang tạo thư mục cho từ e (e): 100%|██████████| 20/20 [00:00<00:00, 1076.66it/s]\n",
      "Đang tạo thư mục cho từ i (i): 100%|██████████| 20/20 [00:00<00:00, 756.10it/s]\n",
      "Đang tạo thư mục cho từ o (o): 100%|██████████| 20/20 [00:00<00:00, 986.33it/s]\n",
      "Đang tạo thư mục cho từ u (u): 100%|██████████| 20/20 [00:00<00:00, 538.95it/s]\n",
      "Đang tạo thư mục cho từ thodia (Thổ địa): 100%|██████████| 20/20 [00:00<00:00, 1093.92it/s]\n"
     ]
    }
   ],
   "source": [
    "for word in get_all_words():\n",
    "    split_datasets(word)"
   ]
  }
 ],
 "metadata": {
  "kernelspec": {
   "display_name": ".venv",
   "language": "python",
   "name": "python3"
  },
  "language_info": {
   "codemirror_mode": {
    "name": "ipython",
    "version": 3
   },
   "file_extension": ".py",
   "mimetype": "text/x-python",
   "name": "python",
   "nbconvert_exporter": "python",
   "pygments_lexer": "ipython3",
   "version": "3.11.3"
  }
 },
 "nbformat": 4,
 "nbformat_minor": 2
}
