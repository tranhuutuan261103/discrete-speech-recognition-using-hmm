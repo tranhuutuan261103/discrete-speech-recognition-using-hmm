{
 "cells": [
  {
   "cell_type": "code",
   "execution_count": 5,
   "metadata": {},
   "outputs": [],
   "source": [
    "import os\n",
    "import matplotlib.pyplot as plt\n",
    "import shutil\n",
    "from utils import get_all_words, get_id_by_word\n",
    "from tqdm import tqdm"
   ]
  },
  {
   "cell_type": "code",
   "execution_count": 6,
   "metadata": {},
   "outputs": [],
   "source": [
    "def split_datasets(word_search: str, word: str):\n",
    "    audio_folder = '../datasets/raw'\n",
    "    output_audio_folder = '../datasets/split'\n",
    "    if not os.path.exists(output_audio_folder):\n",
    "        os.makedirs(output_audio_folder)\n",
    "\n",
    "    # Get all subfolders inside 'datasets'\n",
    "    sub_folders = [os.path.join(audio_folder, sub_folder) for sub_folder in os.listdir(audio_folder)]\n",
    "\n",
    "    # Iterate through all subfolders and collect '.wav' files\n",
    "    wav_files = []\n",
    "    for sub_folder in sub_folders:\n",
    "        if os.path.isdir(sub_folder):  # Check if it's a folder\n",
    "            wav_files.extend(\n",
    "                [os.path.join(sub_folder, file) for file in os.listdir(sub_folder) if file.endswith('.wav')]\n",
    "            )\n",
    "\n",
    "    # Filter files based on the word (if desired)\n",
    "    word_files = [file for file in wav_files if word_search in os.path.basename(file)]\n",
    "\n",
    "    print(\"Length of word_files: \", len(word_files))\n",
    "    print(word_files)\n",
    "\n",
    "    for file in tqdm(word_files, \"Đang copy đến đường dẫn: \"):\n",
    "        # Create the destination folder\n",
    "        destination_folder = os.path.join(output_audio_folder, word)\n",
    "        if not os.path.exists(destination_folder):\n",
    "            os.makedirs(destination_folder)\n",
    "\n",
    "        # Copy the file to the destination folder\n",
    "        destination_file = os.path.join(destination_folder, os.path.basename(file))\n",
    "        try:\n",
    "            shutil.copy(file, destination_file)\n",
    "        except Exception as e:\n",
    "            # print(f\"Error copying {file} to {destination_file}: {e}\")\n",
    "            pass"
   ]
  },
  {
   "cell_type": "code",
   "execution_count": 7,
   "metadata": {},
   "outputs": [
    {
     "name": "stdout",
     "output_type": "stream",
     "text": [
      "['chu', 've', 'vao', 'tai', 'dau', 'cuoi', 'ke', 'truoc', 'dung', 'ngung', 'doc', 'tiep', 'lui', 'toi', 'tang', 'to', 'giam', 'nho', 'lai', 'lap', 'nhanh', 'cham', 'luu', 'xoa', 'huy', 'chay', 'xong', 'ddung', 'sai', 'giup', 'gio', 'ngay', 'tuoi', 'co', 'khong', 'muc', 'bai', 'mot', 'hai', 'ba', 'bon', 'nam', 'sau', 'bay', 'tam', 'chin', 'a', 'e', 'i', 'o', 'u', 'thodia']\n"
     ]
    }
   ],
   "source": [
    "print(get_all_words())"
   ]
  },
  {
   "cell_type": "code",
   "execution_count": 8,
   "metadata": {},
   "outputs": [
    {
     "name": "stdout",
     "output_type": "stream",
     "text": [
      "Length of word_files:  20\n",
      "['../datasets/raw\\\\A\\\\A01.wav', '../datasets/raw\\\\B\\\\B01.wav', '../datasets/raw\\\\C\\\\C01.wav', '../datasets/raw\\\\D\\\\D01.wav', '../datasets/raw\\\\E\\\\E01.wav', '../datasets/raw\\\\F\\\\F01.wav', '../datasets/raw\\\\G\\\\G01.wav', '../datasets/raw\\\\H\\\\H01.wav', '../datasets/raw\\\\I\\\\I01.wav', '../datasets/raw\\\\J\\\\J01.wav', '../datasets/raw\\\\K\\\\K01.wav', '../datasets/raw\\\\L\\\\L01.wav', '../datasets/raw\\\\M\\\\M01.wav', '../datasets/raw\\\\N\\\\N01.wav', '../datasets/raw\\\\O\\\\O01.wav', '../datasets/raw\\\\P\\\\P01.wav', '../datasets/raw\\\\Q\\\\Q01.wav', '../datasets/raw\\\\R\\\\R01.wav', '../datasets/raw\\\\S\\\\S01.wav', '../datasets/raw\\\\T\\\\T01.wav']\n"
     ]
    },
    {
     "name": "stderr",
     "output_type": "stream",
     "text": [
      "Đang copy đến đường dẫn: 100%|██████████| 20/20 [00:00<00:00, 100.78it/s]\n"
     ]
    },
    {
     "name": "stdout",
     "output_type": "stream",
     "text": [
      "Length of word_files:  20\n",
      "['../datasets/raw\\\\A\\\\A02.wav', '../datasets/raw\\\\B\\\\B02.wav', '../datasets/raw\\\\C\\\\C02.wav', '../datasets/raw\\\\D\\\\D02.wav', '../datasets/raw\\\\E\\\\E02.wav', '../datasets/raw\\\\F\\\\F02.wav', '../datasets/raw\\\\G\\\\G02.wav', '../datasets/raw\\\\H\\\\H02.wav', '../datasets/raw\\\\I\\\\I02.wav', '../datasets/raw\\\\J\\\\J02.wav', '../datasets/raw\\\\K\\\\K02.wav', '../datasets/raw\\\\L\\\\L02.wav', '../datasets/raw\\\\M\\\\M02.wav', '../datasets/raw\\\\N\\\\N02.wav', '../datasets/raw\\\\O\\\\O02.wav', '../datasets/raw\\\\P\\\\P02.wav', '../datasets/raw\\\\Q\\\\Q02.wav', '../datasets/raw\\\\R\\\\R02.wav', '../datasets/raw\\\\S\\\\S02.wav', '../datasets/raw\\\\T\\\\T02.wav']\n"
     ]
    },
    {
     "name": "stderr",
     "output_type": "stream",
     "text": [
      "Đang copy đến đường dẫn: 100%|██████████| 20/20 [00:00<00:00, 100.15it/s]\n"
     ]
    },
    {
     "name": "stdout",
     "output_type": "stream",
     "text": [
      "Length of word_files:  20\n",
      "['../datasets/raw\\\\A\\\\A03.wav', '../datasets/raw\\\\B\\\\B03.wav', '../datasets/raw\\\\C\\\\C03.wav', '../datasets/raw\\\\D\\\\D03.wav', '../datasets/raw\\\\E\\\\E03.wav', '../datasets/raw\\\\F\\\\F03.wav', '../datasets/raw\\\\G\\\\G03.wav', '../datasets/raw\\\\H\\\\H03.wav', '../datasets/raw\\\\I\\\\I03.wav', '../datasets/raw\\\\J\\\\J03.wav', '../datasets/raw\\\\K\\\\K03.wav', '../datasets/raw\\\\L\\\\L03.wav', '../datasets/raw\\\\M\\\\M03.wav', '../datasets/raw\\\\N\\\\N03.wav', '../datasets/raw\\\\O\\\\O03.wav', '../datasets/raw\\\\P\\\\P03.wav', '../datasets/raw\\\\Q\\\\Q03.wav', '../datasets/raw\\\\R\\\\R03.wav', '../datasets/raw\\\\S\\\\S03.wav', '../datasets/raw\\\\T\\\\T03.wav']\n"
     ]
    },
    {
     "name": "stderr",
     "output_type": "stream",
     "text": [
      "Đang copy đến đường dẫn: 100%|██████████| 20/20 [00:00<00:00, 101.31it/s]\n"
     ]
    },
    {
     "name": "stdout",
     "output_type": "stream",
     "text": [
      "Length of word_files:  20\n",
      "['../datasets/raw\\\\A\\\\A04.wav', '../datasets/raw\\\\B\\\\B04.wav', '../datasets/raw\\\\C\\\\C04.wav', '../datasets/raw\\\\D\\\\D04.wav', '../datasets/raw\\\\E\\\\E04.wav', '../datasets/raw\\\\F\\\\F04.wav', '../datasets/raw\\\\G\\\\G04.wav', '../datasets/raw\\\\H\\\\H04.wav', '../datasets/raw\\\\I\\\\I04.wav', '../datasets/raw\\\\J\\\\J04.wav', '../datasets/raw\\\\K\\\\K04.wav', '../datasets/raw\\\\L\\\\L04.wav', '../datasets/raw\\\\M\\\\M04.wav', '../datasets/raw\\\\N\\\\N04.wav', '../datasets/raw\\\\O\\\\O04.wav', '../datasets/raw\\\\P\\\\P04.wav', '../datasets/raw\\\\Q\\\\Q04.wav', '../datasets/raw\\\\R\\\\R04.wav', '../datasets/raw\\\\S\\\\S04.wav', '../datasets/raw\\\\T\\\\T04.wav']\n"
     ]
    },
    {
     "name": "stderr",
     "output_type": "stream",
     "text": [
      "Đang copy đến đường dẫn: 100%|██████████| 20/20 [00:00<00:00, 84.07it/s]\n"
     ]
    },
    {
     "name": "stdout",
     "output_type": "stream",
     "text": [
      "Length of word_files:  20\n",
      "['../datasets/raw\\\\A\\\\A05.wav', '../datasets/raw\\\\B\\\\B05.wav', '../datasets/raw\\\\C\\\\C05.wav', '../datasets/raw\\\\D\\\\D05.wav', '../datasets/raw\\\\E\\\\E05.wav', '../datasets/raw\\\\F\\\\F05.wav', '../datasets/raw\\\\G\\\\G05.wav', '../datasets/raw\\\\H\\\\H05.wav', '../datasets/raw\\\\I\\\\I05.wav', '../datasets/raw\\\\J\\\\J05.wav', '../datasets/raw\\\\K\\\\K05.wav', '../datasets/raw\\\\L\\\\L05.wav', '../datasets/raw\\\\M\\\\M05.wav', '../datasets/raw\\\\N\\\\N05.wav', '../datasets/raw\\\\O\\\\O05.wav', '../datasets/raw\\\\P\\\\P05.wav', '../datasets/raw\\\\Q\\\\Q05.wav', '../datasets/raw\\\\R\\\\R05.wav', '../datasets/raw\\\\S\\\\S05.wav', '../datasets/raw\\\\T\\\\T05.wav']\n"
     ]
    },
    {
     "name": "stderr",
     "output_type": "stream",
     "text": [
      "Đang copy đến đường dẫn: 100%|██████████| 20/20 [00:00<00:00, 81.49it/s]\n"
     ]
    },
    {
     "name": "stdout",
     "output_type": "stream",
     "text": [
      "Length of word_files:  20\n",
      "['../datasets/raw\\\\A\\\\A06.wav', '../datasets/raw\\\\B\\\\B06.wav', '../datasets/raw\\\\C\\\\C06.wav', '../datasets/raw\\\\D\\\\D06.wav', '../datasets/raw\\\\E\\\\E06.wav', '../datasets/raw\\\\F\\\\F06.wav', '../datasets/raw\\\\G\\\\G06.wav', '../datasets/raw\\\\H\\\\H06.wav', '../datasets/raw\\\\I\\\\I06.wav', '../datasets/raw\\\\J\\\\J06.wav', '../datasets/raw\\\\K\\\\K06.wav', '../datasets/raw\\\\L\\\\L06.wav', '../datasets/raw\\\\M\\\\M06.wav', '../datasets/raw\\\\N\\\\N06.wav', '../datasets/raw\\\\O\\\\O06.wav', '../datasets/raw\\\\P\\\\P06.wav', '../datasets/raw\\\\Q\\\\Q06.wav', '../datasets/raw\\\\R\\\\R06.wav', '../datasets/raw\\\\S\\\\S06.wav', '../datasets/raw\\\\T\\\\T06.wav']\n"
     ]
    },
    {
     "name": "stderr",
     "output_type": "stream",
     "text": [
      "Đang copy đến đường dẫn: 100%|██████████| 20/20 [00:00<00:00, 111.57it/s]\n"
     ]
    },
    {
     "name": "stdout",
     "output_type": "stream",
     "text": [
      "Length of word_files:  20\n",
      "['../datasets/raw\\\\A\\\\A07.wav', '../datasets/raw\\\\B\\\\B07.wav', '../datasets/raw\\\\C\\\\C07.wav', '../datasets/raw\\\\D\\\\D07.wav', '../datasets/raw\\\\E\\\\E07.wav', '../datasets/raw\\\\F\\\\F07.wav', '../datasets/raw\\\\G\\\\G07.wav', '../datasets/raw\\\\H\\\\H07.wav', '../datasets/raw\\\\I\\\\I07.wav', '../datasets/raw\\\\J\\\\J07.wav', '../datasets/raw\\\\K\\\\K07.wav', '../datasets/raw\\\\L\\\\L07.wav', '../datasets/raw\\\\M\\\\M07.wav', '../datasets/raw\\\\N\\\\N07.wav', '../datasets/raw\\\\O\\\\O07.wav', '../datasets/raw\\\\P\\\\P07.wav', '../datasets/raw\\\\Q\\\\Q07.wav', '../datasets/raw\\\\R\\\\R07.wav', '../datasets/raw\\\\S\\\\S07.wav', '../datasets/raw\\\\T\\\\T07.wav']\n"
     ]
    },
    {
     "name": "stderr",
     "output_type": "stream",
     "text": [
      "Đang copy đến đường dẫn: 100%|██████████| 20/20 [00:00<00:00, 101.61it/s]\n"
     ]
    },
    {
     "name": "stdout",
     "output_type": "stream",
     "text": [
      "Length of word_files:  20\n",
      "['../datasets/raw\\\\A\\\\A08.wav', '../datasets/raw\\\\B\\\\B08.wav', '../datasets/raw\\\\C\\\\C08.wav', '../datasets/raw\\\\D\\\\D08.wav', '../datasets/raw\\\\E\\\\E08.wav', '../datasets/raw\\\\F\\\\F08.wav', '../datasets/raw\\\\G\\\\G08.wav', '../datasets/raw\\\\H\\\\H08.wav', '../datasets/raw\\\\I\\\\I08.wav', '../datasets/raw\\\\J\\\\J08.wav', '../datasets/raw\\\\K\\\\K08.wav', '../datasets/raw\\\\L\\\\L08.wav', '../datasets/raw\\\\M\\\\M08.wav', '../datasets/raw\\\\N\\\\N08.wav', '../datasets/raw\\\\O\\\\O08.wav', '../datasets/raw\\\\P\\\\P08.wav', '../datasets/raw\\\\Q\\\\Q08.wav', '../datasets/raw\\\\R\\\\R08.wav', '../datasets/raw\\\\S\\\\S08.wav', '../datasets/raw\\\\T\\\\T08.wav']\n"
     ]
    },
    {
     "name": "stderr",
     "output_type": "stream",
     "text": [
      "Đang copy đến đường dẫn: 100%|██████████| 20/20 [00:00<00:00, 121.40it/s]\n"
     ]
    },
    {
     "name": "stdout",
     "output_type": "stream",
     "text": [
      "Length of word_files:  20\n",
      "['../datasets/raw\\\\A\\\\A09.wav', '../datasets/raw\\\\B\\\\B09.wav', '../datasets/raw\\\\C\\\\C09.wav', '../datasets/raw\\\\D\\\\D09.wav', '../datasets/raw\\\\E\\\\E09.wav', '../datasets/raw\\\\F\\\\F09.wav', '../datasets/raw\\\\G\\\\G09.wav', '../datasets/raw\\\\H\\\\H09.wav', '../datasets/raw\\\\I\\\\I09.wav', '../datasets/raw\\\\J\\\\J09.wav', '../datasets/raw\\\\K\\\\K09.wav', '../datasets/raw\\\\L\\\\L09.wav', '../datasets/raw\\\\M\\\\M09.wav', '../datasets/raw\\\\N\\\\N09.wav', '../datasets/raw\\\\O\\\\O09.wav', '../datasets/raw\\\\P\\\\P09.wav', '../datasets/raw\\\\Q\\\\Q09.wav', '../datasets/raw\\\\R\\\\R09.wav', '../datasets/raw\\\\S\\\\S09.wav', '../datasets/raw\\\\T\\\\T09.wav']\n"
     ]
    },
    {
     "name": "stderr",
     "output_type": "stream",
     "text": [
      "Đang copy đến đường dẫn: 100%|██████████| 20/20 [00:00<00:00, 118.32it/s]\n"
     ]
    },
    {
     "name": "stdout",
     "output_type": "stream",
     "text": [
      "Length of word_files:  20\n",
      "['../datasets/raw\\\\A\\\\A10.wav', '../datasets/raw\\\\B\\\\B10.wav', '../datasets/raw\\\\C\\\\C10.wav', '../datasets/raw\\\\D\\\\D10.wav', '../datasets/raw\\\\E\\\\E10.wav', '../datasets/raw\\\\F\\\\F10.wav', '../datasets/raw\\\\G\\\\G10.wav', '../datasets/raw\\\\H\\\\H10.wav', '../datasets/raw\\\\I\\\\I10.wav', '../datasets/raw\\\\J\\\\J10.wav', '../datasets/raw\\\\K\\\\K10.wav', '../datasets/raw\\\\L\\\\L10.wav', '../datasets/raw\\\\M\\\\M10.wav', '../datasets/raw\\\\N\\\\N10.wav', '../datasets/raw\\\\O\\\\O10.wav', '../datasets/raw\\\\P\\\\P10.wav', '../datasets/raw\\\\Q\\\\Q10.wav', '../datasets/raw\\\\R\\\\R10.wav', '../datasets/raw\\\\S\\\\S10.wav', '../datasets/raw\\\\T\\\\T10.wav']\n"
     ]
    },
    {
     "name": "stderr",
     "output_type": "stream",
     "text": [
      "Đang copy đến đường dẫn: 100%|██████████| 20/20 [00:00<00:00, 123.19it/s]\n"
     ]
    },
    {
     "name": "stdout",
     "output_type": "stream",
     "text": [
      "Length of word_files:  20\n",
      "['../datasets/raw\\\\A\\\\A11.wav', '../datasets/raw\\\\B\\\\B11.wav', '../datasets/raw\\\\C\\\\C11.wav', '../datasets/raw\\\\D\\\\D11.wav', '../datasets/raw\\\\E\\\\E11.wav', '../datasets/raw\\\\F\\\\F11.wav', '../datasets/raw\\\\G\\\\G11.wav', '../datasets/raw\\\\H\\\\H11.wav', '../datasets/raw\\\\I\\\\I11.wav', '../datasets/raw\\\\J\\\\J11.wav', '../datasets/raw\\\\K\\\\K11.wav', '../datasets/raw\\\\L\\\\L11.wav', '../datasets/raw\\\\M\\\\M11.wav', '../datasets/raw\\\\N\\\\N11.wav', '../datasets/raw\\\\O\\\\O11.wav', '../datasets/raw\\\\P\\\\P11.wav', '../datasets/raw\\\\Q\\\\Q11.wav', '../datasets/raw\\\\R\\\\R11.wav', '../datasets/raw\\\\S\\\\S11.wav', '../datasets/raw\\\\T\\\\T11.wav']\n"
     ]
    },
    {
     "name": "stderr",
     "output_type": "stream",
     "text": [
      "Đang copy đến đường dẫn: 100%|██████████| 20/20 [00:00<00:00, 117.20it/s]\n"
     ]
    },
    {
     "name": "stdout",
     "output_type": "stream",
     "text": [
      "Length of word_files:  20\n",
      "['../datasets/raw\\\\A\\\\A12.wav', '../datasets/raw\\\\B\\\\B12.wav', '../datasets/raw\\\\C\\\\C12.wav', '../datasets/raw\\\\D\\\\D12.wav', '../datasets/raw\\\\E\\\\E12.wav', '../datasets/raw\\\\F\\\\F12.wav', '../datasets/raw\\\\G\\\\G12.wav', '../datasets/raw\\\\H\\\\H12.wav', '../datasets/raw\\\\I\\\\I12.wav', '../datasets/raw\\\\J\\\\J12.wav', '../datasets/raw\\\\K\\\\K12.wav', '../datasets/raw\\\\L\\\\L12.wav', '../datasets/raw\\\\M\\\\M12.wav', '../datasets/raw\\\\N\\\\N12.wav', '../datasets/raw\\\\O\\\\O12.wav', '../datasets/raw\\\\P\\\\P12.wav', '../datasets/raw\\\\Q\\\\Q12.wav', '../datasets/raw\\\\R\\\\R12.wav', '../datasets/raw\\\\S\\\\S12.wav', '../datasets/raw\\\\T\\\\T12.wav']\n"
     ]
    },
    {
     "name": "stderr",
     "output_type": "stream",
     "text": [
      "Đang copy đến đường dẫn: 100%|██████████| 20/20 [00:00<00:00, 120.16it/s]\n"
     ]
    },
    {
     "name": "stdout",
     "output_type": "stream",
     "text": [
      "Length of word_files:  20\n",
      "['../datasets/raw\\\\A\\\\A13.wav', '../datasets/raw\\\\B\\\\B13.wav', '../datasets/raw\\\\C\\\\C13.wav', '../datasets/raw\\\\D\\\\D13.wav', '../datasets/raw\\\\E\\\\E13.wav', '../datasets/raw\\\\F\\\\F13.wav', '../datasets/raw\\\\G\\\\G13.wav', '../datasets/raw\\\\H\\\\H13.wav', '../datasets/raw\\\\I\\\\I13.wav', '../datasets/raw\\\\J\\\\J13.wav', '../datasets/raw\\\\K\\\\K13.wav', '../datasets/raw\\\\L\\\\L13.wav', '../datasets/raw\\\\M\\\\M13.wav', '../datasets/raw\\\\N\\\\N13.wav', '../datasets/raw\\\\O\\\\O13.wav', '../datasets/raw\\\\P\\\\P13.wav', '../datasets/raw\\\\Q\\\\Q13.wav', '../datasets/raw\\\\R\\\\R13.wav', '../datasets/raw\\\\S\\\\S13.wav', '../datasets/raw\\\\T\\\\T13.wav']\n"
     ]
    },
    {
     "name": "stderr",
     "output_type": "stream",
     "text": [
      "Đang copy đến đường dẫn: 100%|██████████| 20/20 [00:00<00:00, 125.89it/s]\n"
     ]
    },
    {
     "name": "stdout",
     "output_type": "stream",
     "text": [
      "Length of word_files:  20\n",
      "['../datasets/raw\\\\A\\\\A14.wav', '../datasets/raw\\\\B\\\\B14.wav', '../datasets/raw\\\\C\\\\C14.wav', '../datasets/raw\\\\D\\\\D14.wav', '../datasets/raw\\\\E\\\\E14.wav', '../datasets/raw\\\\F\\\\F14.wav', '../datasets/raw\\\\G\\\\G14.wav', '../datasets/raw\\\\H\\\\H14.wav', '../datasets/raw\\\\I\\\\I14.wav', '../datasets/raw\\\\J\\\\J14.wav', '../datasets/raw\\\\K\\\\K14.wav', '../datasets/raw\\\\L\\\\L14.wav', '../datasets/raw\\\\M\\\\M14.wav', '../datasets/raw\\\\N\\\\N14.wav', '../datasets/raw\\\\O\\\\O14.wav', '../datasets/raw\\\\P\\\\P14.wav', '../datasets/raw\\\\Q\\\\Q14.wav', '../datasets/raw\\\\R\\\\R14.wav', '../datasets/raw\\\\S\\\\S14.wav', '../datasets/raw\\\\T\\\\T14.wav']\n"
     ]
    },
    {
     "name": "stderr",
     "output_type": "stream",
     "text": [
      "Đang copy đến đường dẫn: 100%|██████████| 20/20 [00:00<00:00, 131.07it/s]\n"
     ]
    },
    {
     "name": "stdout",
     "output_type": "stream",
     "text": [
      "Length of word_files:  20\n",
      "['../datasets/raw\\\\A\\\\A15.wav', '../datasets/raw\\\\B\\\\B15.wav', '../datasets/raw\\\\C\\\\C15.wav', '../datasets/raw\\\\D\\\\D15.wav', '../datasets/raw\\\\E\\\\E15.wav', '../datasets/raw\\\\F\\\\F15.wav', '../datasets/raw\\\\G\\\\G15.wav', '../datasets/raw\\\\H\\\\H15.wav', '../datasets/raw\\\\I\\\\I15.wav', '../datasets/raw\\\\J\\\\J15.wav', '../datasets/raw\\\\K\\\\K15.wav', '../datasets/raw\\\\L\\\\L15.wav', '../datasets/raw\\\\M\\\\M15.wav', '../datasets/raw\\\\N\\\\N15.wav', '../datasets/raw\\\\O\\\\O15.wav', '../datasets/raw\\\\P\\\\P15.wav', '../datasets/raw\\\\Q\\\\Q15.wav', '../datasets/raw\\\\R\\\\R15.wav', '../datasets/raw\\\\S\\\\S15.wav', '../datasets/raw\\\\T\\\\T15.wav']\n"
     ]
    },
    {
     "name": "stderr",
     "output_type": "stream",
     "text": [
      "Đang copy đến đường dẫn: 100%|██████████| 20/20 [00:00<00:00, 118.87it/s]\n"
     ]
    },
    {
     "name": "stdout",
     "output_type": "stream",
     "text": [
      "Length of word_files:  20\n",
      "['../datasets/raw\\\\A\\\\A16.wav', '../datasets/raw\\\\B\\\\B16.wav', '../datasets/raw\\\\C\\\\C16.wav', '../datasets/raw\\\\D\\\\D16.wav', '../datasets/raw\\\\E\\\\E16.wav', '../datasets/raw\\\\F\\\\F16.wav', '../datasets/raw\\\\G\\\\G16.wav', '../datasets/raw\\\\H\\\\H16.wav', '../datasets/raw\\\\I\\\\I16.wav', '../datasets/raw\\\\J\\\\J16.wav', '../datasets/raw\\\\K\\\\K16.wav', '../datasets/raw\\\\L\\\\L16.wav', '../datasets/raw\\\\M\\\\M16.wav', '../datasets/raw\\\\N\\\\N16.wav', '../datasets/raw\\\\O\\\\O16.wav', '../datasets/raw\\\\P\\\\P16.wav', '../datasets/raw\\\\Q\\\\Q16.wav', '../datasets/raw\\\\R\\\\R16.wav', '../datasets/raw\\\\S\\\\S16.wav', '../datasets/raw\\\\T\\\\T16.wav']\n"
     ]
    },
    {
     "name": "stderr",
     "output_type": "stream",
     "text": [
      "Đang copy đến đường dẫn: 100%|██████████| 20/20 [00:00<00:00, 99.05it/s]\n"
     ]
    },
    {
     "name": "stdout",
     "output_type": "stream",
     "text": [
      "Length of word_files:  20\n",
      "['../datasets/raw\\\\A\\\\A17.wav', '../datasets/raw\\\\B\\\\B17.wav', '../datasets/raw\\\\C\\\\C17.wav', '../datasets/raw\\\\D\\\\D17.wav', '../datasets/raw\\\\E\\\\E17.wav', '../datasets/raw\\\\F\\\\F17.wav', '../datasets/raw\\\\G\\\\G17.wav', '../datasets/raw\\\\H\\\\H17.wav', '../datasets/raw\\\\I\\\\I17.wav', '../datasets/raw\\\\J\\\\J17.wav', '../datasets/raw\\\\K\\\\K17.wav', '../datasets/raw\\\\L\\\\L17.wav', '../datasets/raw\\\\M\\\\M17.wav', '../datasets/raw\\\\N\\\\N17.wav', '../datasets/raw\\\\O\\\\O17.wav', '../datasets/raw\\\\P\\\\P17.wav', '../datasets/raw\\\\Q\\\\Q17.wav', '../datasets/raw\\\\R\\\\R17.wav', '../datasets/raw\\\\S\\\\S17.wav', '../datasets/raw\\\\T\\\\T17.wav']\n"
     ]
    },
    {
     "name": "stderr",
     "output_type": "stream",
     "text": [
      "Đang copy đến đường dẫn: 100%|██████████| 20/20 [00:00<00:00, 106.83it/s]\n"
     ]
    },
    {
     "name": "stdout",
     "output_type": "stream",
     "text": [
      "Length of word_files:  20\n",
      "['../datasets/raw\\\\A\\\\A18.wav', '../datasets/raw\\\\B\\\\B18.wav', '../datasets/raw\\\\C\\\\C18.wav', '../datasets/raw\\\\D\\\\D18.wav', '../datasets/raw\\\\E\\\\E18.wav', '../datasets/raw\\\\F\\\\F18.wav', '../datasets/raw\\\\G\\\\G18.wav', '../datasets/raw\\\\H\\\\H18.wav', '../datasets/raw\\\\I\\\\I18.wav', '../datasets/raw\\\\J\\\\J18.wav', '../datasets/raw\\\\K\\\\K18.wav', '../datasets/raw\\\\L\\\\L18.wav', '../datasets/raw\\\\M\\\\M18.wav', '../datasets/raw\\\\N\\\\N18.wav', '../datasets/raw\\\\O\\\\O18.wav', '../datasets/raw\\\\P\\\\P18.wav', '../datasets/raw\\\\Q\\\\Q18.wav', '../datasets/raw\\\\R\\\\R18.wav', '../datasets/raw\\\\S\\\\S18.wav', '../datasets/raw\\\\T\\\\T18.wav']\n"
     ]
    },
    {
     "name": "stderr",
     "output_type": "stream",
     "text": [
      "Đang copy đến đường dẫn: 100%|██████████| 20/20 [00:00<00:00, 106.84it/s]\n"
     ]
    },
    {
     "name": "stdout",
     "output_type": "stream",
     "text": [
      "Length of word_files:  20\n",
      "['../datasets/raw\\\\A\\\\A19.wav', '../datasets/raw\\\\B\\\\B19.wav', '../datasets/raw\\\\C\\\\C19.wav', '../datasets/raw\\\\D\\\\D19.wav', '../datasets/raw\\\\E\\\\E19.wav', '../datasets/raw\\\\F\\\\F19.wav', '../datasets/raw\\\\G\\\\G19.wav', '../datasets/raw\\\\H\\\\H19.wav', '../datasets/raw\\\\I\\\\I19.wav', '../datasets/raw\\\\J\\\\J19.wav', '../datasets/raw\\\\K\\\\K19.wav', '../datasets/raw\\\\L\\\\L19.wav', '../datasets/raw\\\\M\\\\M19.wav', '../datasets/raw\\\\N\\\\N19.wav', '../datasets/raw\\\\O\\\\O19.wav', '../datasets/raw\\\\P\\\\P19.wav', '../datasets/raw\\\\Q\\\\Q19.wav', '../datasets/raw\\\\R\\\\R19.wav', '../datasets/raw\\\\S\\\\S19.wav', '../datasets/raw\\\\T\\\\T19.wav']\n"
     ]
    },
    {
     "name": "stderr",
     "output_type": "stream",
     "text": [
      "Đang copy đến đường dẫn: 100%|██████████| 20/20 [00:00<00:00, 121.67it/s]\n"
     ]
    },
    {
     "name": "stdout",
     "output_type": "stream",
     "text": [
      "Length of word_files:  20\n",
      "['../datasets/raw\\\\A\\\\A20.wav', '../datasets/raw\\\\B\\\\B20.wav', '../datasets/raw\\\\C\\\\C20.wav', '../datasets/raw\\\\D\\\\D20.wav', '../datasets/raw\\\\E\\\\E20.wav', '../datasets/raw\\\\F\\\\F20.wav', '../datasets/raw\\\\G\\\\G20.wav', '../datasets/raw\\\\H\\\\H20.wav', '../datasets/raw\\\\I\\\\I20.wav', '../datasets/raw\\\\J\\\\J20.wav', '../datasets/raw\\\\K\\\\K20.wav', '../datasets/raw\\\\L\\\\L20.wav', '../datasets/raw\\\\M\\\\M20.wav', '../datasets/raw\\\\N\\\\N20.wav', '../datasets/raw\\\\O\\\\O20.wav', '../datasets/raw\\\\P\\\\P20.wav', '../datasets/raw\\\\Q\\\\Q20.wav', '../datasets/raw\\\\R\\\\R20.wav', '../datasets/raw\\\\S\\\\S20.wav', '../datasets/raw\\\\T\\\\T20.wav']\n"
     ]
    },
    {
     "name": "stderr",
     "output_type": "stream",
     "text": [
      "Đang copy đến đường dẫn: 100%|██████████| 20/20 [00:00<00:00, 137.01it/s]\n"
     ]
    },
    {
     "name": "stdout",
     "output_type": "stream",
     "text": [
      "Length of word_files:  20\n",
      "['../datasets/raw\\\\A\\\\A21.wav', '../datasets/raw\\\\B\\\\B21.wav', '../datasets/raw\\\\C\\\\C21.wav', '../datasets/raw\\\\D\\\\D21.wav', '../datasets/raw\\\\E\\\\E21.wav', '../datasets/raw\\\\F\\\\F21.wav', '../datasets/raw\\\\G\\\\G21.wav', '../datasets/raw\\\\H\\\\H21.wav', '../datasets/raw\\\\I\\\\I21.wav', '../datasets/raw\\\\J\\\\J21.wav', '../datasets/raw\\\\K\\\\K21.wav', '../datasets/raw\\\\L\\\\L21.wav', '../datasets/raw\\\\M\\\\M21.wav', '../datasets/raw\\\\N\\\\N21.wav', '../datasets/raw\\\\O\\\\O21.wav', '../datasets/raw\\\\P\\\\P21.wav', '../datasets/raw\\\\Q\\\\Q21.wav', '../datasets/raw\\\\R\\\\R21.wav', '../datasets/raw\\\\S\\\\S21.wav', '../datasets/raw\\\\T\\\\T21.wav']\n"
     ]
    },
    {
     "name": "stderr",
     "output_type": "stream",
     "text": [
      "Đang copy đến đường dẫn: 100%|██████████| 20/20 [00:00<00:00, 108.19it/s]\n"
     ]
    },
    {
     "name": "stdout",
     "output_type": "stream",
     "text": [
      "Length of word_files:  20\n",
      "['../datasets/raw\\\\A\\\\A22.wav', '../datasets/raw\\\\B\\\\B22.wav', '../datasets/raw\\\\C\\\\C22.wav', '../datasets/raw\\\\D\\\\D22.wav', '../datasets/raw\\\\E\\\\E22.wav', '../datasets/raw\\\\F\\\\F22.wav', '../datasets/raw\\\\G\\\\G22.wav', '../datasets/raw\\\\H\\\\H22.wav', '../datasets/raw\\\\I\\\\I22.wav', '../datasets/raw\\\\J\\\\J22.wav', '../datasets/raw\\\\K\\\\K22.wav', '../datasets/raw\\\\L\\\\L22.wav', '../datasets/raw\\\\M\\\\M22.wav', '../datasets/raw\\\\N\\\\N22.wav', '../datasets/raw\\\\O\\\\O22.wav', '../datasets/raw\\\\P\\\\P22.wav', '../datasets/raw\\\\Q\\\\Q22.wav', '../datasets/raw\\\\R\\\\R22.wav', '../datasets/raw\\\\S\\\\S22.wav', '../datasets/raw\\\\T\\\\T22.wav']\n"
     ]
    },
    {
     "name": "stderr",
     "output_type": "stream",
     "text": [
      "Đang copy đến đường dẫn: 100%|██████████| 20/20 [00:00<00:00, 118.55it/s]\n"
     ]
    },
    {
     "name": "stdout",
     "output_type": "stream",
     "text": [
      "Length of word_files:  20\n",
      "['../datasets/raw\\\\A\\\\A23.wav', '../datasets/raw\\\\B\\\\B23.wav', '../datasets/raw\\\\C\\\\C23.wav', '../datasets/raw\\\\D\\\\D23.wav', '../datasets/raw\\\\E\\\\E23.wav', '../datasets/raw\\\\F\\\\F23.wav', '../datasets/raw\\\\G\\\\G23.wav', '../datasets/raw\\\\H\\\\H23.wav', '../datasets/raw\\\\I\\\\I23.wav', '../datasets/raw\\\\J\\\\J23.wav', '../datasets/raw\\\\K\\\\K23.wav', '../datasets/raw\\\\L\\\\L23.wav', '../datasets/raw\\\\M\\\\M23.wav', '../datasets/raw\\\\N\\\\N23.wav', '../datasets/raw\\\\O\\\\O23.wav', '../datasets/raw\\\\P\\\\P23.wav', '../datasets/raw\\\\Q\\\\Q23.wav', '../datasets/raw\\\\R\\\\R23.wav', '../datasets/raw\\\\S\\\\S23.wav', '../datasets/raw\\\\T\\\\T23.wav']\n"
     ]
    },
    {
     "name": "stderr",
     "output_type": "stream",
     "text": [
      "Đang copy đến đường dẫn: 100%|██████████| 20/20 [00:00<00:00, 119.03it/s]\n"
     ]
    },
    {
     "name": "stdout",
     "output_type": "stream",
     "text": [
      "Length of word_files:  20\n",
      "['../datasets/raw\\\\A\\\\A24.wav', '../datasets/raw\\\\B\\\\B24.wav', '../datasets/raw\\\\C\\\\C24.wav', '../datasets/raw\\\\D\\\\D24.wav', '../datasets/raw\\\\E\\\\E24.wav', '../datasets/raw\\\\F\\\\F24.wav', '../datasets/raw\\\\G\\\\G24.wav', '../datasets/raw\\\\H\\\\H24.wav', '../datasets/raw\\\\I\\\\I24.wav', '../datasets/raw\\\\J\\\\J24.wav', '../datasets/raw\\\\K\\\\K24.wav', '../datasets/raw\\\\L\\\\L24.wav', '../datasets/raw\\\\M\\\\M24.wav', '../datasets/raw\\\\N\\\\N24.wav', '../datasets/raw\\\\O\\\\O24.wav', '../datasets/raw\\\\P\\\\P24.wav', '../datasets/raw\\\\Q\\\\Q24.wav', '../datasets/raw\\\\R\\\\R24.wav', '../datasets/raw\\\\S\\\\S24.wav', '../datasets/raw\\\\T\\\\T24.wav']\n"
     ]
    },
    {
     "name": "stderr",
     "output_type": "stream",
     "text": [
      "Đang copy đến đường dẫn: 100%|██████████| 20/20 [00:00<00:00, 87.18it/s]\n"
     ]
    },
    {
     "name": "stdout",
     "output_type": "stream",
     "text": [
      "Length of word_files:  20\n",
      "['../datasets/raw\\\\A\\\\A25.wav', '../datasets/raw\\\\B\\\\B25.wav', '../datasets/raw\\\\C\\\\C25.wav', '../datasets/raw\\\\D\\\\D25.wav', '../datasets/raw\\\\E\\\\E25.wav', '../datasets/raw\\\\F\\\\F25.wav', '../datasets/raw\\\\G\\\\G25.wav', '../datasets/raw\\\\H\\\\H25.wav', '../datasets/raw\\\\I\\\\I25.wav', '../datasets/raw\\\\J\\\\J25.wav', '../datasets/raw\\\\K\\\\K25.wav', '../datasets/raw\\\\L\\\\L25.wav', '../datasets/raw\\\\M\\\\M25.wav', '../datasets/raw\\\\N\\\\N25.wav', '../datasets/raw\\\\O\\\\O25.wav', '../datasets/raw\\\\P\\\\P25.wav', '../datasets/raw\\\\Q\\\\Q25.wav', '../datasets/raw\\\\R\\\\R25.wav', '../datasets/raw\\\\S\\\\S25.wav', '../datasets/raw\\\\T\\\\T25.wav']\n"
     ]
    },
    {
     "name": "stderr",
     "output_type": "stream",
     "text": [
      "Đang copy đến đường dẫn: 100%|██████████| 20/20 [00:00<00:00, 131.28it/s]\n"
     ]
    },
    {
     "name": "stdout",
     "output_type": "stream",
     "text": [
      "Length of word_files:  20\n",
      "['../datasets/raw\\\\A\\\\A26.wav', '../datasets/raw\\\\B\\\\B26.wav', '../datasets/raw\\\\C\\\\C26.wav', '../datasets/raw\\\\D\\\\D26.wav', '../datasets/raw\\\\E\\\\E26.wav', '../datasets/raw\\\\F\\\\F26.wav', '../datasets/raw\\\\G\\\\G26.wav', '../datasets/raw\\\\H\\\\H26.wav', '../datasets/raw\\\\I\\\\I26.wav', '../datasets/raw\\\\J\\\\J26.wav', '../datasets/raw\\\\K\\\\K26.wav', '../datasets/raw\\\\L\\\\L26.wav', '../datasets/raw\\\\M\\\\M26.wav', '../datasets/raw\\\\N\\\\N26.wav', '../datasets/raw\\\\O\\\\O26.wav', '../datasets/raw\\\\P\\\\P26.wav', '../datasets/raw\\\\Q\\\\Q26.wav', '../datasets/raw\\\\R\\\\R26.wav', '../datasets/raw\\\\S\\\\S26.wav', '../datasets/raw\\\\T\\\\T26.wav']\n"
     ]
    },
    {
     "name": "stderr",
     "output_type": "stream",
     "text": [
      "Đang copy đến đường dẫn: 100%|██████████| 20/20 [00:00<00:00, 112.78it/s]\n"
     ]
    },
    {
     "name": "stdout",
     "output_type": "stream",
     "text": [
      "Length of word_files:  20\n",
      "['../datasets/raw\\\\A\\\\A27.wav', '../datasets/raw\\\\B\\\\B27.wav', '../datasets/raw\\\\C\\\\C27.wav', '../datasets/raw\\\\D\\\\D27.wav', '../datasets/raw\\\\E\\\\E27.wav', '../datasets/raw\\\\F\\\\F27.wav', '../datasets/raw\\\\G\\\\G27.wav', '../datasets/raw\\\\H\\\\H27.wav', '../datasets/raw\\\\I\\\\I27.wav', '../datasets/raw\\\\J\\\\J27.wav', '../datasets/raw\\\\K\\\\K27.wav', '../datasets/raw\\\\L\\\\L27.wav', '../datasets/raw\\\\M\\\\M27.wav', '../datasets/raw\\\\N\\\\N27.wav', '../datasets/raw\\\\O\\\\O27.wav', '../datasets/raw\\\\P\\\\P27.wav', '../datasets/raw\\\\Q\\\\Q27.wav', '../datasets/raw\\\\R\\\\R27.wav', '../datasets/raw\\\\S\\\\S27.wav', '../datasets/raw\\\\T\\\\T27.wav']\n"
     ]
    },
    {
     "name": "stderr",
     "output_type": "stream",
     "text": [
      "Đang copy đến đường dẫn: 100%|██████████| 20/20 [00:00<00:00, 101.83it/s]\n"
     ]
    },
    {
     "name": "stdout",
     "output_type": "stream",
     "text": [
      "Length of word_files:  20\n",
      "['../datasets/raw\\\\A\\\\A28.wav', '../datasets/raw\\\\B\\\\B28.wav', '../datasets/raw\\\\C\\\\C28.wav', '../datasets/raw\\\\D\\\\D28.wav', '../datasets/raw\\\\E\\\\E28.wav', '../datasets/raw\\\\F\\\\F28.wav', '../datasets/raw\\\\G\\\\G28.wav', '../datasets/raw\\\\H\\\\H28.wav', '../datasets/raw\\\\I\\\\I28.wav', '../datasets/raw\\\\J\\\\J28.wav', '../datasets/raw\\\\K\\\\K28.wav', '../datasets/raw\\\\L\\\\L28.wav', '../datasets/raw\\\\M\\\\M28.wav', '../datasets/raw\\\\N\\\\N28.wav', '../datasets/raw\\\\O\\\\O28.wav', '../datasets/raw\\\\P\\\\P28.wav', '../datasets/raw\\\\Q\\\\Q28.wav', '../datasets/raw\\\\R\\\\R28.wav', '../datasets/raw\\\\S\\\\S28.wav', '../datasets/raw\\\\T\\\\T28.wav']\n"
     ]
    },
    {
     "name": "stderr",
     "output_type": "stream",
     "text": [
      "Đang copy đến đường dẫn: 100%|██████████| 20/20 [00:00<00:00, 118.47it/s]\n"
     ]
    },
    {
     "name": "stdout",
     "output_type": "stream",
     "text": [
      "Length of word_files:  20\n",
      "['../datasets/raw\\\\A\\\\A29.wav', '../datasets/raw\\\\B\\\\B29.wav', '../datasets/raw\\\\C\\\\C29.wav', '../datasets/raw\\\\D\\\\D29.wav', '../datasets/raw\\\\E\\\\E29.wav', '../datasets/raw\\\\F\\\\F29.wav', '../datasets/raw\\\\G\\\\G29.wav', '../datasets/raw\\\\H\\\\H29.wav', '../datasets/raw\\\\I\\\\I29.wav', '../datasets/raw\\\\J\\\\J29.wav', '../datasets/raw\\\\K\\\\K29.wav', '../datasets/raw\\\\L\\\\L29.wav', '../datasets/raw\\\\M\\\\M29.wav', '../datasets/raw\\\\N\\\\N29.wav', '../datasets/raw\\\\O\\\\O29.wav', '../datasets/raw\\\\P\\\\P29.wav', '../datasets/raw\\\\Q\\\\Q29.wav', '../datasets/raw\\\\R\\\\R29.wav', '../datasets/raw\\\\S\\\\S29.wav', '../datasets/raw\\\\T\\\\T29.wav']\n"
     ]
    },
    {
     "name": "stderr",
     "output_type": "stream",
     "text": [
      "Đang copy đến đường dẫn: 100%|██████████| 20/20 [00:00<00:00, 111.44it/s]\n"
     ]
    },
    {
     "name": "stdout",
     "output_type": "stream",
     "text": [
      "Length of word_files:  20\n",
      "['../datasets/raw\\\\A\\\\A30.wav', '../datasets/raw\\\\B\\\\B30.wav', '../datasets/raw\\\\C\\\\C30.wav', '../datasets/raw\\\\D\\\\D30.wav', '../datasets/raw\\\\E\\\\E30.wav', '../datasets/raw\\\\F\\\\F30.wav', '../datasets/raw\\\\G\\\\G30.wav', '../datasets/raw\\\\H\\\\H30.wav', '../datasets/raw\\\\I\\\\I30.wav', '../datasets/raw\\\\J\\\\J30.wav', '../datasets/raw\\\\K\\\\K30.wav', '../datasets/raw\\\\L\\\\L30.wav', '../datasets/raw\\\\M\\\\M30.wav', '../datasets/raw\\\\N\\\\N30.wav', '../datasets/raw\\\\O\\\\O30.wav', '../datasets/raw\\\\P\\\\P30.wav', '../datasets/raw\\\\Q\\\\Q30.wav', '../datasets/raw\\\\R\\\\R30.wav', '../datasets/raw\\\\S\\\\S30.wav', '../datasets/raw\\\\T\\\\T30.wav']\n"
     ]
    },
    {
     "name": "stderr",
     "output_type": "stream",
     "text": [
      "Đang copy đến đường dẫn: 100%|██████████| 20/20 [00:00<00:00, 92.54it/s]\n"
     ]
    },
    {
     "name": "stdout",
     "output_type": "stream",
     "text": [
      "Length of word_files:  20\n",
      "['../datasets/raw\\\\A\\\\A31.wav', '../datasets/raw\\\\B\\\\B31.wav', '../datasets/raw\\\\C\\\\C31.wav', '../datasets/raw\\\\D\\\\D31.wav', '../datasets/raw\\\\E\\\\E31.wav', '../datasets/raw\\\\F\\\\F31.wav', '../datasets/raw\\\\G\\\\G31.wav', '../datasets/raw\\\\H\\\\H31.wav', '../datasets/raw\\\\I\\\\I31.wav', '../datasets/raw\\\\J\\\\J31.wav', '../datasets/raw\\\\K\\\\K31.wav', '../datasets/raw\\\\L\\\\L31.wav', '../datasets/raw\\\\M\\\\M31.wav', '../datasets/raw\\\\N\\\\N31.wav', '../datasets/raw\\\\O\\\\O31.wav', '../datasets/raw\\\\P\\\\P31.wav', '../datasets/raw\\\\Q\\\\Q31.wav', '../datasets/raw\\\\R\\\\R31.wav', '../datasets/raw\\\\S\\\\S31.wav', '../datasets/raw\\\\T\\\\T31.wav']\n"
     ]
    },
    {
     "name": "stderr",
     "output_type": "stream",
     "text": [
      "Đang copy đến đường dẫn: 100%|██████████| 20/20 [00:00<00:00, 108.64it/s]\n"
     ]
    },
    {
     "name": "stdout",
     "output_type": "stream",
     "text": [
      "Length of word_files:  20\n",
      "['../datasets/raw\\\\A\\\\A32.wav', '../datasets/raw\\\\B\\\\B32.wav', '../datasets/raw\\\\C\\\\C32.wav', '../datasets/raw\\\\D\\\\D32.wav', '../datasets/raw\\\\E\\\\E32.wav', '../datasets/raw\\\\F\\\\F32.wav', '../datasets/raw\\\\G\\\\G32.wav', '../datasets/raw\\\\H\\\\H32.wav', '../datasets/raw\\\\I\\\\I32.wav', '../datasets/raw\\\\J\\\\J32.wav', '../datasets/raw\\\\K\\\\K32.wav', '../datasets/raw\\\\L\\\\L32.wav', '../datasets/raw\\\\M\\\\M32.wav', '../datasets/raw\\\\N\\\\N32.wav', '../datasets/raw\\\\O\\\\O32.wav', '../datasets/raw\\\\P\\\\P32.wav', '../datasets/raw\\\\Q\\\\Q32.wav', '../datasets/raw\\\\R\\\\R32.wav', '../datasets/raw\\\\S\\\\S32.wav', '../datasets/raw\\\\T\\\\T32.wav']\n"
     ]
    },
    {
     "name": "stderr",
     "output_type": "stream",
     "text": [
      "Đang copy đến đường dẫn: 100%|██████████| 20/20 [00:00<00:00, 133.25it/s]\n"
     ]
    },
    {
     "name": "stdout",
     "output_type": "stream",
     "text": [
      "Length of word_files:  20\n",
      "['../datasets/raw\\\\A\\\\A33.wav', '../datasets/raw\\\\B\\\\B33.wav', '../datasets/raw\\\\C\\\\C33.wav', '../datasets/raw\\\\D\\\\D33.wav', '../datasets/raw\\\\E\\\\E33.wav', '../datasets/raw\\\\F\\\\F33.wav', '../datasets/raw\\\\G\\\\G33.wav', '../datasets/raw\\\\H\\\\H33.wav', '../datasets/raw\\\\I\\\\I33.wav', '../datasets/raw\\\\J\\\\J33.wav', '../datasets/raw\\\\K\\\\K33.wav', '../datasets/raw\\\\L\\\\L33.wav', '../datasets/raw\\\\M\\\\M33.wav', '../datasets/raw\\\\N\\\\N33.wav', '../datasets/raw\\\\O\\\\O33.wav', '../datasets/raw\\\\P\\\\P33.wav', '../datasets/raw\\\\Q\\\\Q33.wav', '../datasets/raw\\\\R\\\\R33.wav', '../datasets/raw\\\\S\\\\S33.wav', '../datasets/raw\\\\T\\\\T33.wav']\n"
     ]
    },
    {
     "name": "stderr",
     "output_type": "stream",
     "text": [
      "Đang copy đến đường dẫn: 100%|██████████| 20/20 [00:00<00:00, 103.64it/s]\n"
     ]
    },
    {
     "name": "stdout",
     "output_type": "stream",
     "text": [
      "Length of word_files:  20\n",
      "['../datasets/raw\\\\A\\\\A34.wav', '../datasets/raw\\\\B\\\\B34.wav', '../datasets/raw\\\\C\\\\C34.wav', '../datasets/raw\\\\D\\\\D34.wav', '../datasets/raw\\\\E\\\\E34.wav', '../datasets/raw\\\\F\\\\F34.wav', '../datasets/raw\\\\G\\\\G34.wav', '../datasets/raw\\\\H\\\\H34.wav', '../datasets/raw\\\\I\\\\I34.wav', '../datasets/raw\\\\J\\\\J34.wav', '../datasets/raw\\\\K\\\\K34.wav', '../datasets/raw\\\\L\\\\L34.wav', '../datasets/raw\\\\M\\\\M34.wav', '../datasets/raw\\\\N\\\\N34.wav', '../datasets/raw\\\\O\\\\O34.wav', '../datasets/raw\\\\P\\\\P34.wav', '../datasets/raw\\\\Q\\\\Q34.wav', '../datasets/raw\\\\R\\\\R34.wav', '../datasets/raw\\\\S\\\\S34.wav', '../datasets/raw\\\\T\\\\T34.wav']\n"
     ]
    },
    {
     "name": "stderr",
     "output_type": "stream",
     "text": [
      "Đang copy đến đường dẫn: 100%|██████████| 20/20 [00:00<00:00, 90.28it/s]\n"
     ]
    },
    {
     "name": "stdout",
     "output_type": "stream",
     "text": [
      "Length of word_files:  20\n",
      "['../datasets/raw\\\\A\\\\A35.wav', '../datasets/raw\\\\B\\\\B35.wav', '../datasets/raw\\\\C\\\\C35.wav', '../datasets/raw\\\\D\\\\D35.wav', '../datasets/raw\\\\E\\\\E35.wav', '../datasets/raw\\\\F\\\\F35.wav', '../datasets/raw\\\\G\\\\G35.wav', '../datasets/raw\\\\H\\\\H35.wav', '../datasets/raw\\\\I\\\\I35.wav', '../datasets/raw\\\\J\\\\J35.wav', '../datasets/raw\\\\K\\\\K35.wav', '../datasets/raw\\\\L\\\\L35.wav', '../datasets/raw\\\\M\\\\M35.wav', '../datasets/raw\\\\N\\\\N35.wav', '../datasets/raw\\\\O\\\\O35.wav', '../datasets/raw\\\\P\\\\P35.wav', '../datasets/raw\\\\Q\\\\Q35.wav', '../datasets/raw\\\\R\\\\R35.wav', '../datasets/raw\\\\S\\\\S35.wav', '../datasets/raw\\\\T\\\\T35.wav']\n"
     ]
    },
    {
     "name": "stderr",
     "output_type": "stream",
     "text": [
      "Đang copy đến đường dẫn: 100%|██████████| 20/20 [00:00<00:00, 116.89it/s]"
     ]
    },
    {
     "name": "stdout",
     "output_type": "stream",
     "text": [
      "Length of word_files:  20\n",
      "['../datasets/raw\\\\A\\\\A36.wav', '../datasets/raw\\\\B\\\\B36.wav', '../datasets/raw\\\\C\\\\C36.wav', '../datasets/raw\\\\D\\\\D36.wav', '../datasets/raw\\\\E\\\\E36.wav', '../datasets/raw\\\\F\\\\F36.wav', '../datasets/raw\\\\G\\\\G36.wav', '../datasets/raw\\\\H\\\\H36.wav', '../datasets/raw\\\\I\\\\I36.wav', '../datasets/raw\\\\J\\\\J36.wav', '../datasets/raw\\\\K\\\\K36.wav', '../datasets/raw\\\\L\\\\L36.wav', '../datasets/raw\\\\M\\\\M36.wav', '../datasets/raw\\\\N\\\\N36.wav', '../datasets/raw\\\\O\\\\O36.wav', '../datasets/raw\\\\P\\\\P36.wav', '../datasets/raw\\\\Q\\\\Q36.wav', '../datasets/raw\\\\R\\\\R36.wav', '../datasets/raw\\\\S\\\\S36.wav', '../datasets/raw\\\\T\\\\T36.wav']\n"
     ]
    },
    {
     "name": "stderr",
     "output_type": "stream",
     "text": [
      "\n",
      "Đang copy đến đường dẫn: 100%|██████████| 20/20 [00:00<00:00, 119.51it/s]\n"
     ]
    },
    {
     "name": "stdout",
     "output_type": "stream",
     "text": [
      "Length of word_files:  20\n",
      "['../datasets/raw\\\\A\\\\A37.wav', '../datasets/raw\\\\B\\\\B37.wav', '../datasets/raw\\\\C\\\\C37.wav', '../datasets/raw\\\\D\\\\D37.wav', '../datasets/raw\\\\E\\\\E37.wav', '../datasets/raw\\\\F\\\\F37.wav', '../datasets/raw\\\\G\\\\G37.wav', '../datasets/raw\\\\H\\\\H37.wav', '../datasets/raw\\\\I\\\\I37.wav', '../datasets/raw\\\\J\\\\J37.wav', '../datasets/raw\\\\K\\\\K37.wav', '../datasets/raw\\\\L\\\\L37.wav', '../datasets/raw\\\\M\\\\M37.wav', '../datasets/raw\\\\N\\\\N37.wav', '../datasets/raw\\\\O\\\\O37.wav', '../datasets/raw\\\\P\\\\P37.wav', '../datasets/raw\\\\Q\\\\Q37.wav', '../datasets/raw\\\\R\\\\R37.wav', '../datasets/raw\\\\S\\\\S37.wav', '../datasets/raw\\\\T\\\\T37.wav']\n"
     ]
    },
    {
     "name": "stderr",
     "output_type": "stream",
     "text": [
      "Đang copy đến đường dẫn: 100%|██████████| 20/20 [00:00<00:00, 127.38it/s]\n"
     ]
    },
    {
     "name": "stdout",
     "output_type": "stream",
     "text": [
      "Length of word_files:  20\n",
      "['../datasets/raw\\\\A\\\\A38.wav', '../datasets/raw\\\\B\\\\B38.wav', '../datasets/raw\\\\C\\\\C38.wav', '../datasets/raw\\\\D\\\\D38.wav', '../datasets/raw\\\\E\\\\E38.wav', '../datasets/raw\\\\F\\\\F38.wav', '../datasets/raw\\\\G\\\\G38.wav', '../datasets/raw\\\\H\\\\H38.wav', '../datasets/raw\\\\I\\\\I38.wav', '../datasets/raw\\\\J\\\\J38.wav', '../datasets/raw\\\\K\\\\K38.wav', '../datasets/raw\\\\L\\\\L38.wav', '../datasets/raw\\\\M\\\\M38.wav', '../datasets/raw\\\\N\\\\N38.wav', '../datasets/raw\\\\O\\\\O38.wav', '../datasets/raw\\\\P\\\\P38.wav', '../datasets/raw\\\\Q\\\\Q38.wav', '../datasets/raw\\\\R\\\\R38.wav', '../datasets/raw\\\\S\\\\S38.wav', '../datasets/raw\\\\T\\\\T38.wav']\n"
     ]
    },
    {
     "name": "stderr",
     "output_type": "stream",
     "text": [
      "Đang copy đến đường dẫn: 100%|██████████| 20/20 [00:00<00:00, 105.60it/s]\n"
     ]
    },
    {
     "name": "stdout",
     "output_type": "stream",
     "text": [
      "Length of word_files:  20\n",
      "['../datasets/raw\\\\A\\\\A39.wav', '../datasets/raw\\\\B\\\\B39.wav', '../datasets/raw\\\\C\\\\C39.wav', '../datasets/raw\\\\D\\\\D39.wav', '../datasets/raw\\\\E\\\\E39.wav', '../datasets/raw\\\\F\\\\F39.wav', '../datasets/raw\\\\G\\\\G39.wav', '../datasets/raw\\\\H\\\\H39.wav', '../datasets/raw\\\\I\\\\I39.wav', '../datasets/raw\\\\J\\\\J39.wav', '../datasets/raw\\\\K\\\\K39.wav', '../datasets/raw\\\\L\\\\L39.wav', '../datasets/raw\\\\M\\\\M39.wav', '../datasets/raw\\\\N\\\\N39.wav', '../datasets/raw\\\\O\\\\O39.wav', '../datasets/raw\\\\P\\\\P39.wav', '../datasets/raw\\\\Q\\\\Q39.wav', '../datasets/raw\\\\R\\\\R39.wav', '../datasets/raw\\\\S\\\\S39.wav', '../datasets/raw\\\\T\\\\T39.wav']\n"
     ]
    },
    {
     "name": "stderr",
     "output_type": "stream",
     "text": [
      "Đang copy đến đường dẫn: 100%|██████████| 20/20 [00:00<00:00, 109.13it/s]\n"
     ]
    },
    {
     "name": "stdout",
     "output_type": "stream",
     "text": [
      "Length of word_files:  20\n",
      "['../datasets/raw\\\\A\\\\A40.wav', '../datasets/raw\\\\B\\\\B40.wav', '../datasets/raw\\\\C\\\\C40.wav', '../datasets/raw\\\\D\\\\D40.wav', '../datasets/raw\\\\E\\\\E40.wav', '../datasets/raw\\\\F\\\\F40.wav', '../datasets/raw\\\\G\\\\G40.wav', '../datasets/raw\\\\H\\\\H40.wav', '../datasets/raw\\\\I\\\\I40.wav', '../datasets/raw\\\\J\\\\J40.wav', '../datasets/raw\\\\K\\\\K40.wav', '../datasets/raw\\\\L\\\\L40.wav', '../datasets/raw\\\\M\\\\M40.wav', '../datasets/raw\\\\N\\\\N40.wav', '../datasets/raw\\\\O\\\\O40.wav', '../datasets/raw\\\\P\\\\P40.wav', '../datasets/raw\\\\Q\\\\Q40.wav', '../datasets/raw\\\\R\\\\R40.wav', '../datasets/raw\\\\S\\\\S40.wav', '../datasets/raw\\\\T\\\\T40.wav']\n"
     ]
    },
    {
     "name": "stderr",
     "output_type": "stream",
     "text": [
      "Đang copy đến đường dẫn: 100%|██████████| 20/20 [00:00<00:00, 124.19it/s]\n"
     ]
    },
    {
     "name": "stdout",
     "output_type": "stream",
     "text": [
      "Length of word_files:  20\n",
      "['../datasets/raw\\\\A\\\\A41.wav', '../datasets/raw\\\\B\\\\B41.wav', '../datasets/raw\\\\C\\\\C41.wav', '../datasets/raw\\\\D\\\\D41.wav', '../datasets/raw\\\\E\\\\E41.wav', '../datasets/raw\\\\F\\\\F41.wav', '../datasets/raw\\\\G\\\\G41.wav', '../datasets/raw\\\\H\\\\H41.wav', '../datasets/raw\\\\I\\\\I41.wav', '../datasets/raw\\\\J\\\\J41.wav', '../datasets/raw\\\\K\\\\K41.wav', '../datasets/raw\\\\L\\\\L41.wav', '../datasets/raw\\\\M\\\\M41.wav', '../datasets/raw\\\\N\\\\N41.wav', '../datasets/raw\\\\O\\\\O41.wav', '../datasets/raw\\\\P\\\\P41.wav', '../datasets/raw\\\\Q\\\\Q41.wav', '../datasets/raw\\\\R\\\\R41.wav', '../datasets/raw\\\\S\\\\S41.wav', '../datasets/raw\\\\T\\\\T41.wav']\n"
     ]
    },
    {
     "name": "stderr",
     "output_type": "stream",
     "text": [
      "Đang copy đến đường dẫn: 100%|██████████| 20/20 [00:00<00:00, 132.24it/s]\n"
     ]
    },
    {
     "name": "stdout",
     "output_type": "stream",
     "text": [
      "Length of word_files:  20\n",
      "['../datasets/raw\\\\A\\\\A42.wav', '../datasets/raw\\\\B\\\\B42.wav', '../datasets/raw\\\\C\\\\C42.wav', '../datasets/raw\\\\D\\\\D42.wav', '../datasets/raw\\\\E\\\\E42.wav', '../datasets/raw\\\\F\\\\F42.wav', '../datasets/raw\\\\G\\\\G42.wav', '../datasets/raw\\\\H\\\\H42.wav', '../datasets/raw\\\\I\\\\I42.wav', '../datasets/raw\\\\J\\\\J42.wav', '../datasets/raw\\\\K\\\\K42.wav', '../datasets/raw\\\\L\\\\L42.wav', '../datasets/raw\\\\M\\\\M42.wav', '../datasets/raw\\\\N\\\\N42.wav', '../datasets/raw\\\\O\\\\O42.wav', '../datasets/raw\\\\P\\\\P42.wav', '../datasets/raw\\\\Q\\\\Q42.wav', '../datasets/raw\\\\R\\\\R42.wav', '../datasets/raw\\\\S\\\\S42.wav', '../datasets/raw\\\\T\\\\T42.wav']\n"
     ]
    },
    {
     "name": "stderr",
     "output_type": "stream",
     "text": [
      "Đang copy đến đường dẫn: 100%|██████████| 20/20 [00:00<00:00, 115.87it/s]\n"
     ]
    },
    {
     "name": "stdout",
     "output_type": "stream",
     "text": [
      "Length of word_files:  20\n",
      "['../datasets/raw\\\\A\\\\A43.wav', '../datasets/raw\\\\B\\\\B43.wav', '../datasets/raw\\\\C\\\\C43.wav', '../datasets/raw\\\\D\\\\D43.wav', '../datasets/raw\\\\E\\\\E43.wav', '../datasets/raw\\\\F\\\\F43.wav', '../datasets/raw\\\\G\\\\G43.wav', '../datasets/raw\\\\H\\\\H43.wav', '../datasets/raw\\\\I\\\\I43.wav', '../datasets/raw\\\\J\\\\J43.wav', '../datasets/raw\\\\K\\\\K43.wav', '../datasets/raw\\\\L\\\\L43.wav', '../datasets/raw\\\\M\\\\M43.wav', '../datasets/raw\\\\N\\\\N43.wav', '../datasets/raw\\\\O\\\\O43.wav', '../datasets/raw\\\\P\\\\P43.wav', '../datasets/raw\\\\Q\\\\Q43.wav', '../datasets/raw\\\\R\\\\R43.wav', '../datasets/raw\\\\S\\\\S43.wav', '../datasets/raw\\\\T\\\\T43.wav']\n"
     ]
    },
    {
     "name": "stderr",
     "output_type": "stream",
     "text": [
      "Đang copy đến đường dẫn: 100%|██████████| 20/20 [00:00<00:00, 110.14it/s]\n"
     ]
    },
    {
     "name": "stdout",
     "output_type": "stream",
     "text": [
      "Length of word_files:  20\n",
      "['../datasets/raw\\\\A\\\\A44.wav', '../datasets/raw\\\\B\\\\B44.wav', '../datasets/raw\\\\C\\\\C44.wav', '../datasets/raw\\\\D\\\\D44.wav', '../datasets/raw\\\\E\\\\E44.wav', '../datasets/raw\\\\F\\\\F44.wav', '../datasets/raw\\\\G\\\\G44.wav', '../datasets/raw\\\\H\\\\H44.wav', '../datasets/raw\\\\I\\\\I44.wav', '../datasets/raw\\\\J\\\\J44.wav', '../datasets/raw\\\\K\\\\K44.wav', '../datasets/raw\\\\L\\\\L44.wav', '../datasets/raw\\\\M\\\\M44.wav', '../datasets/raw\\\\N\\\\N44.wav', '../datasets/raw\\\\O\\\\O44.wav', '../datasets/raw\\\\P\\\\P44.wav', '../datasets/raw\\\\Q\\\\Q44.wav', '../datasets/raw\\\\R\\\\R44.wav', '../datasets/raw\\\\S\\\\S44.wav', '../datasets/raw\\\\T\\\\T44.wav']\n"
     ]
    },
    {
     "name": "stderr",
     "output_type": "stream",
     "text": [
      "Đang copy đến đường dẫn: 100%|██████████| 20/20 [00:00<00:00, 72.49it/s]\n"
     ]
    },
    {
     "name": "stdout",
     "output_type": "stream",
     "text": [
      "Length of word_files:  20\n",
      "['../datasets/raw\\\\A\\\\A45.wav', '../datasets/raw\\\\B\\\\B45.wav', '../datasets/raw\\\\C\\\\C45.wav', '../datasets/raw\\\\D\\\\D45.wav', '../datasets/raw\\\\E\\\\E45.wav', '../datasets/raw\\\\F\\\\F45.wav', '../datasets/raw\\\\G\\\\G45.wav', '../datasets/raw\\\\H\\\\H45.wav', '../datasets/raw\\\\I\\\\I45.wav', '../datasets/raw\\\\J\\\\J45.wav', '../datasets/raw\\\\K\\\\K45.wav', '../datasets/raw\\\\L\\\\L45.wav', '../datasets/raw\\\\M\\\\M45.wav', '../datasets/raw\\\\N\\\\N45.wav', '../datasets/raw\\\\O\\\\O45.wav', '../datasets/raw\\\\P\\\\P45.wav', '../datasets/raw\\\\Q\\\\Q45.wav', '../datasets/raw\\\\R\\\\R45.wav', '../datasets/raw\\\\S\\\\S45.wav', '../datasets/raw\\\\T\\\\T45.wav']\n"
     ]
    },
    {
     "name": "stderr",
     "output_type": "stream",
     "text": [
      "Đang copy đến đường dẫn: 100%|██████████| 20/20 [00:00<00:00, 112.08it/s]\n"
     ]
    },
    {
     "name": "stdout",
     "output_type": "stream",
     "text": [
      "Length of word_files:  20\n",
      "['../datasets/raw\\\\A\\\\A46.wav', '../datasets/raw\\\\B\\\\B46.wav', '../datasets/raw\\\\C\\\\C46.wav', '../datasets/raw\\\\D\\\\D46.wav', '../datasets/raw\\\\E\\\\E46.wav', '../datasets/raw\\\\F\\\\F46.wav', '../datasets/raw\\\\G\\\\G46.wav', '../datasets/raw\\\\H\\\\H46.wav', '../datasets/raw\\\\I\\\\I46.wav', '../datasets/raw\\\\J\\\\J46.wav', '../datasets/raw\\\\K\\\\K46.wav', '../datasets/raw\\\\L\\\\L46.wav', '../datasets/raw\\\\M\\\\M46.wav', '../datasets/raw\\\\N\\\\N46.wav', '../datasets/raw\\\\O\\\\O46.wav', '../datasets/raw\\\\P\\\\P46.wav', '../datasets/raw\\\\Q\\\\Q46.wav', '../datasets/raw\\\\R\\\\R46.wav', '../datasets/raw\\\\S\\\\S46.wav', '../datasets/raw\\\\T\\\\T46.wav']\n"
     ]
    },
    {
     "name": "stderr",
     "output_type": "stream",
     "text": [
      "Đang copy đến đường dẫn: 100%|██████████| 20/20 [00:00<00:00, 132.03it/s]\n"
     ]
    },
    {
     "name": "stdout",
     "output_type": "stream",
     "text": [
      "Length of word_files:  20\n",
      "['../datasets/raw\\\\A\\\\A47.wav', '../datasets/raw\\\\B\\\\B47.wav', '../datasets/raw\\\\C\\\\C47.wav', '../datasets/raw\\\\D\\\\D47.wav', '../datasets/raw\\\\E\\\\E47.wav', '../datasets/raw\\\\F\\\\F47.wav', '../datasets/raw\\\\G\\\\G47.wav', '../datasets/raw\\\\H\\\\H47.wav', '../datasets/raw\\\\I\\\\I47.wav', '../datasets/raw\\\\J\\\\J47.wav', '../datasets/raw\\\\K\\\\K47.wav', '../datasets/raw\\\\L\\\\L47.wav', '../datasets/raw\\\\M\\\\M47.wav', '../datasets/raw\\\\N\\\\N47.wav', '../datasets/raw\\\\O\\\\O47.wav', '../datasets/raw\\\\P\\\\P47.wav', '../datasets/raw\\\\Q\\\\Q47.wav', '../datasets/raw\\\\R\\\\R47.wav', '../datasets/raw\\\\S\\\\S47.wav', '../datasets/raw\\\\T\\\\T47.wav']\n"
     ]
    },
    {
     "name": "stderr",
     "output_type": "stream",
     "text": [
      "Đang copy đến đường dẫn: 100%|██████████| 20/20 [00:00<00:00, 123.81it/s]\n"
     ]
    },
    {
     "name": "stdout",
     "output_type": "stream",
     "text": [
      "Length of word_files:  20\n",
      "['../datasets/raw\\\\A\\\\A48.wav', '../datasets/raw\\\\B\\\\B48.wav', '../datasets/raw\\\\C\\\\C48.wav', '../datasets/raw\\\\D\\\\D48.wav', '../datasets/raw\\\\E\\\\E48.wav', '../datasets/raw\\\\F\\\\F48.wav', '../datasets/raw\\\\G\\\\G48.wav', '../datasets/raw\\\\H\\\\H48.wav', '../datasets/raw\\\\I\\\\I48.wav', '../datasets/raw\\\\J\\\\J48.wav', '../datasets/raw\\\\K\\\\K48.wav', '../datasets/raw\\\\L\\\\L48.wav', '../datasets/raw\\\\M\\\\M48.wav', '../datasets/raw\\\\N\\\\N48.wav', '../datasets/raw\\\\O\\\\O48.wav', '../datasets/raw\\\\P\\\\P48.wav', '../datasets/raw\\\\Q\\\\Q48.wav', '../datasets/raw\\\\R\\\\R48.wav', '../datasets/raw\\\\S\\\\S48.wav', '../datasets/raw\\\\T\\\\T48.wav']\n"
     ]
    },
    {
     "name": "stderr",
     "output_type": "stream",
     "text": [
      "Đang copy đến đường dẫn: 100%|██████████| 20/20 [00:00<00:00, 116.16it/s]\n"
     ]
    },
    {
     "name": "stdout",
     "output_type": "stream",
     "text": [
      "Length of word_files:  20\n",
      "['../datasets/raw\\\\A\\\\A49.wav', '../datasets/raw\\\\B\\\\B49.wav', '../datasets/raw\\\\C\\\\C49.wav', '../datasets/raw\\\\D\\\\D49.wav', '../datasets/raw\\\\E\\\\E49.wav', '../datasets/raw\\\\F\\\\F49.wav', '../datasets/raw\\\\G\\\\G49.wav', '../datasets/raw\\\\H\\\\H49.wav', '../datasets/raw\\\\I\\\\I49.wav', '../datasets/raw\\\\J\\\\J49.wav', '../datasets/raw\\\\K\\\\K49.wav', '../datasets/raw\\\\L\\\\L49.wav', '../datasets/raw\\\\M\\\\M49.wav', '../datasets/raw\\\\N\\\\N49.wav', '../datasets/raw\\\\O\\\\O49.wav', '../datasets/raw\\\\P\\\\P49.wav', '../datasets/raw\\\\Q\\\\Q49.wav', '../datasets/raw\\\\R\\\\R49.wav', '../datasets/raw\\\\S\\\\S49.wav', '../datasets/raw\\\\T\\\\T49.wav']\n"
     ]
    },
    {
     "name": "stderr",
     "output_type": "stream",
     "text": [
      "Đang copy đến đường dẫn: 100%|██████████| 20/20 [00:00<00:00, 114.67it/s]\n"
     ]
    },
    {
     "name": "stdout",
     "output_type": "stream",
     "text": [
      "Length of word_files:  20\n",
      "['../datasets/raw\\\\A\\\\A50.wav', '../datasets/raw\\\\B\\\\B50.wav', '../datasets/raw\\\\C\\\\C50.wav', '../datasets/raw\\\\D\\\\D50.wav', '../datasets/raw\\\\E\\\\E50.wav', '../datasets/raw\\\\F\\\\F50.wav', '../datasets/raw\\\\G\\\\G50.wav', '../datasets/raw\\\\H\\\\H50.wav', '../datasets/raw\\\\I\\\\I50.wav', '../datasets/raw\\\\J\\\\J50.wav', '../datasets/raw\\\\K\\\\K50.wav', '../datasets/raw\\\\L\\\\L50.wav', '../datasets/raw\\\\M\\\\M50.wav', '../datasets/raw\\\\N\\\\N50.wav', '../datasets/raw\\\\O\\\\O50.wav', '../datasets/raw\\\\P\\\\P50.wav', '../datasets/raw\\\\Q\\\\Q50.wav', '../datasets/raw\\\\R\\\\R50.wav', '../datasets/raw\\\\S\\\\S50.wav', '../datasets/raw\\\\T\\\\T50.wav']\n"
     ]
    },
    {
     "name": "stderr",
     "output_type": "stream",
     "text": [
      "Đang copy đến đường dẫn: 100%|██████████| 20/20 [00:00<00:00, 114.43it/s]\n"
     ]
    },
    {
     "name": "stdout",
     "output_type": "stream",
     "text": [
      "Length of word_files:  20\n",
      "['../datasets/raw\\\\A\\\\A51.wav', '../datasets/raw\\\\B\\\\B51.wav', '../datasets/raw\\\\C\\\\C51.wav', '../datasets/raw\\\\D\\\\D51.wav', '../datasets/raw\\\\E\\\\E51.wav', '../datasets/raw\\\\F\\\\F51.wav', '../datasets/raw\\\\G\\\\G51.wav', '../datasets/raw\\\\H\\\\H51.wav', '../datasets/raw\\\\I\\\\I51.wav', '../datasets/raw\\\\J\\\\J51.wav', '../datasets/raw\\\\K\\\\K51.wav', '../datasets/raw\\\\L\\\\L51.wav', '../datasets/raw\\\\M\\\\M51.wav', '../datasets/raw\\\\N\\\\N51.wav', '../datasets/raw\\\\O\\\\O51.wav', '../datasets/raw\\\\P\\\\P51.wav', '../datasets/raw\\\\Q\\\\Q51.wav', '../datasets/raw\\\\R\\\\R51.wav', '../datasets/raw\\\\S\\\\S51.wav', '../datasets/raw\\\\T\\\\T51.wav']\n"
     ]
    },
    {
     "name": "stderr",
     "output_type": "stream",
     "text": [
      "Đang copy đến đường dẫn: 100%|██████████| 20/20 [00:00<00:00, 108.90it/s]\n"
     ]
    },
    {
     "name": "stdout",
     "output_type": "stream",
     "text": [
      "Length of word_files:  20\n",
      "['../datasets/raw\\\\A\\\\A52.wav', '../datasets/raw\\\\B\\\\B52.wav', '../datasets/raw\\\\C\\\\C52.wav', '../datasets/raw\\\\D\\\\D52.wav', '../datasets/raw\\\\E\\\\E52.wav', '../datasets/raw\\\\F\\\\F52.wav', '../datasets/raw\\\\G\\\\G52.wav', '../datasets/raw\\\\H\\\\H52.wav', '../datasets/raw\\\\I\\\\I52.wav', '../datasets/raw\\\\J\\\\J52.wav', '../datasets/raw\\\\K\\\\K52.wav', '../datasets/raw\\\\L\\\\L52.wav', '../datasets/raw\\\\M\\\\M52.wav', '../datasets/raw\\\\N\\\\N52.wav', '../datasets/raw\\\\O\\\\O52.wav', '../datasets/raw\\\\P\\\\P52.wav', '../datasets/raw\\\\Q\\\\Q52.wav', '../datasets/raw\\\\R\\\\R52.wav', '../datasets/raw\\\\S\\\\S52.wav', '../datasets/raw\\\\T\\\\T52.wav']\n"
     ]
    },
    {
     "name": "stderr",
     "output_type": "stream",
     "text": [
      "Đang copy đến đường dẫn: 100%|██████████| 20/20 [00:00<00:00, 124.96it/s]\n"
     ]
    }
   ],
   "source": [
    "for word in get_all_words():\n",
    "    split_datasets(str(get_id_by_word(word)).zfill(2), word=word)"
   ]
  }
 ],
 "metadata": {
  "kernelspec": {
   "display_name": ".venv",
   "language": "python",
   "name": "python3"
  },
  "language_info": {
   "codemirror_mode": {
    "name": "ipython",
    "version": 3
   },
   "file_extension": ".py",
   "mimetype": "text/x-python",
   "name": "python",
   "nbconvert_exporter": "python",
   "pygments_lexer": "ipython3",
   "version": "3.11.3"
  }
 },
 "nbformat": 4,
 "nbformat_minor": 2
}
