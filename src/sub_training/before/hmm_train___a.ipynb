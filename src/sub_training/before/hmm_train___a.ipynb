{
 "cells": [
  {
   "cell_type": "code",
   "execution_count": 9,
   "metadata": {},
   "outputs": [],
   "source": [
    "%reload_ext autoreload\n",
    "%autoreload 2\n",
    "\n",
    "import os\n",
    "import sys\n",
    "\n",
    "import hmmlearn.hmm as hmm\n",
    "import numpy as np\n",
    "import pandas as pd\n",
    "from tqdm import tqdm\n",
    "from sklearn.model_selection import train_test_split, KFold\n",
    "from sklearn.metrics import confusion_matrix\n",
    "\n",
    "sys.path.append('../../')\n",
    "\n",
    "from preprocessing import get_mfcc\n",
    "\n",
    "from utils import  get_all_words, get_word\n",
    "\n",
    "import seaborn as sns\n",
    "import matplotlib.pyplot as plt"
   ]
  },
  {
   "cell_type": "markdown",
   "metadata": {},
   "source": [
    "# 1. Params"
   ]
  },
  {
   "cell_type": "code",
   "execution_count": 10,
   "metadata": {},
   "outputs": [],
   "source": [
    "all_words = get_all_words(tiny=True)\n",
    "class_names = [all_words[3], all_words[14], all_words[20], all_words[21], all_words[28], all_words[38], all_words[39], all_words[41],all_words[43], all_words[44], all_words[46]]\n"
   ]
  },
  {
   "cell_type": "code",
   "execution_count": 11,
   "metadata": {},
   "outputs": [
    {
     "data": {
      "text/plain": [
       "['tai', 'tang', 'nhanh', 'cham', 'sai', 'hai', 'ba', 'nam', 'bay', 'tam', 'a']"
      ]
     },
     "execution_count": 11,
     "metadata": {},
     "output_type": "execute_result"
    }
   ],
   "source": [
    "class_names"
   ]
  },
  {
   "cell_type": "code",
   "execution_count": 12,
   "metadata": {},
   "outputs": [],
   "source": [
    "states = [3, 3, 3, 3, 3, 3, 3, 3, 3, 3, 3]\n",
    "n_mixs = [6, 6, 6, 6, 6, 6, 6, 6, 6, 6, 6]\n",
    "k_fold = 5"
   ]
  },
  {
   "cell_type": "code",
   "execution_count": 13,
   "metadata": {},
   "outputs": [
    {
     "data": {
      "text/plain": [
       "[3, 3, 3, 3, 3, 3, 3, 3, 3, 3, 3]"
      ]
     },
     "execution_count": 13,
     "metadata": {},
     "output_type": "execute_result"
    }
   ],
   "source": [
    "states"
   ]
  },
  {
   "cell_type": "code",
   "execution_count": 14,
   "metadata": {},
   "outputs": [],
   "source": [
    "dataset_path = '../../../datasets/split'"
   ]
  },
  {
   "cell_type": "code",
   "execution_count": 15,
   "metadata": {},
   "outputs": [],
   "source": [
    "def load_data_kfold(dataset_path: str, class_names: list, k: int):\n",
    "    \"\"\"\n",
    "    Chia dữ liệu thành k-fold cross-validation, mỗi fold có cấu trúc như yêu cầu.\n",
    "\n",
    "    Args:\n",
    "        dataset_path (str): Đường dẫn tới tập dữ liệu.\n",
    "        class_names (list): Danh sách tên các lớp.\n",
    "        k (int): Số lượng folds trong k-fold cross-validation.\n",
    "\n",
    "    Returns:\n",
    "        folds (list): Danh sách k folds, mỗi fold có dạng:\n",
    "                      {'train': {'class1': [...], 'class2': [...]},\n",
    "                       'test': {'class1': [...], 'class2': [...]}}.\n",
    "    \"\"\"\n",
    "    # Tổng hợp dữ liệu và nhãn cho từng lớp\n",
    "    all_data = {cname: [] for cname in class_names}\n",
    "\n",
    "    for cname in class_names:\n",
    "        file_paths = [os.path.join(dataset_path, cname, i) for i in os.listdir(\n",
    "            os.path.join(dataset_path, cname)) if i.endswith('.wav')]\n",
    "        \n",
    "        # Tính MFCC cho mỗi file và lưu vào all_data\n",
    "        all_data[cname] = [get_mfcc(file_path) for file_path in file_paths]\n",
    "\n",
    "    # KFold cho mỗi lớp và tạo danh sách các fold\n",
    "    X_folds = []\n",
    "    y_folds = []\n",
    "\n",
    "    kf = KFold(n_splits=k, shuffle=True, random_state=42)\n",
    "\n",
    "    # Duyệt qua các fold\n",
    "    for fold_idx in range(k):\n",
    "        X_fold = {'train': {cname: [] for cname in class_names},\n",
    "                'test': {cname: [] for cname in class_names}}\n",
    "        \n",
    "        y_fold = {'train': {cname: [] for cname in class_names},\n",
    "                'test': {cname: [] for cname in class_names}}\n",
    "        \n",
    "        label = 0\n",
    "\n",
    "        for cname in class_names:\n",
    "            data = all_data[cname]\n",
    "            splits = list(kf.split(data))\n",
    "\n",
    "            train_indices, test_indices = splits[fold_idx]\n",
    "\n",
    "            # Lưu dữ liệu huấn luyện và kiểm thử\n",
    "            X_fold['train'][cname] = [data[i] for i in train_indices]\n",
    "            X_fold['test'][cname] = [data[i] for i in test_indices]\n",
    "\n",
    "            y_fold['train'][cname] = [label] * len(train_indices)\n",
    "            y_fold['test'][cname] = [label] * len(test_indices)\n",
    "\n",
    "            label += 1\n",
    "\n",
    "        X_folds.append(X_fold)\n",
    "        y_folds.append(y_fold)\n",
    "\n",
    "    return X_folds, y_folds"
   ]
  },
  {
   "cell_type": "code",
   "execution_count": 16,
   "metadata": {},
   "outputs": [],
   "source": [
    "X_folds, y_folds = load_data_kfold(dataset_path, class_names, k_fold)"
   ]
  },
  {
   "cell_type": "code",
   "execution_count": 17,
   "metadata": {},
   "outputs": [],
   "source": [
    "def train(X: dict[str, dict], class_names: list[str], states: list[int], n_mixs):\n",
    "    models = {}\n",
    "    likelihoods = {}\n",
    "\n",
    "    for idx, cname in enumerate(class_names):\n",
    "        start_prob = np.full(states[idx], 0.0)\n",
    "        start_prob[0] = 1.0\n",
    "        trans_matrix = np.full((states[idx], states[idx]), 0.0)\n",
    "        p = 0.5\n",
    "        np.fill_diagonal(trans_matrix, p)\n",
    "        np.fill_diagonal(trans_matrix[0:, 1:], 1 - p)\n",
    "        trans_matrix[-1, -1] = 1.0\n",
    "        trans_matrix = trans_matrix / (states[idx])\n",
    "\n",
    "        # trans matrix\n",
    "        # print(cname)\n",
    "        # print(trans_matrix)\n",
    "\n",
    "        print(f'Training {cname}... with {states[idx]} states and {n_mixs[idx]} mixtures')\n",
    "        \n",
    "        models[cname] = hmm.GMMHMM(\n",
    "            n_components=states[idx],\n",
    "            n_mix=n_mixs[idx],\n",
    "            verbose=False,\n",
    "            n_iter=300,\n",
    "            startprob_prior=start_prob,\n",
    "            transmat_prior=trans_matrix,\n",
    "            params='stmc',\n",
    "            init_params='mc',\n",
    "            random_state=42\n",
    "        )\n",
    "\n",
    "        models[cname].fit(X=np.vstack(X['train'][cname]),\n",
    "                                lengths=[x.shape[0] for x in X['train'][cname]])\n",
    "\n",
    "        likelihoods[cname] = models[cname].monitor_.history\n",
    "\n",
    "    return models, likelihoods\n"
   ]
  },
  {
   "cell_type": "code",
   "execution_count": 18,
   "metadata": {},
   "outputs": [],
   "source": [
    "def show_prob(models: dict[str, hmm.GMMHMM], class_names: list[str]):\n",
    "    for cname in class_names:\n",
    "        print(\"\\nMa trận chuyển tiếp trạng thái ẩn của \\\"\" + cname +\"\\\":\")\n",
    "        print(models[cname].transmat_)"
   ]
  },
  {
   "cell_type": "code",
   "execution_count": 19,
   "metadata": {},
   "outputs": [],
   "source": [
    "def evaluation(model: dict, X: dict[str, dict], y: dict[str, dict], class_names: list[str]):\n",
    "    y_true = []\n",
    "    y_pred = []\n",
    "\n",
    "    # Duyệt qua từng lớp\n",
    "    print(\"Evaluating...\")\n",
    "    for cname in class_names:\n",
    "        true_for_class = []\n",
    "        pred_for_class = []\n",
    "\n",
    "        # Duyệt qua từng mẫu của lớp\n",
    "        for mfcc, target in zip(X['test'][cname], y['test'][cname]):\n",
    "            try:\n",
    "                # Tính điểm số cho mỗi lớp\n",
    "                scores = [model[c].score(mfcc) for c in class_names]\n",
    "                pred = np.argmax(scores)\n",
    "\n",
    "                # Lưu kết quả dự đoán và nhãn thực tế\n",
    "                true_for_class.append(target)\n",
    "                pred_for_class.append(pred)\n",
    "            except Exception as e:\n",
    "                print(f\"Error processing sample for class {cname}: {e}\")\n",
    "\n",
    "        # Cập nhật vào danh sách chung\n",
    "        y_true.extend(true_for_class)\n",
    "        y_pred.extend(pred_for_class)\n",
    "\n",
    "    return y_true, y_pred"
   ]
  },
  {
   "cell_type": "code",
   "execution_count": 20,
   "metadata": {},
   "outputs": [
    {
     "name": "stderr",
     "output_type": "stream",
     "text": [
      "Training:   0%|          | 0/5 [00:00<?, ?it/s]"
     ]
    },
    {
     "name": "stdout",
     "output_type": "stream",
     "text": [
      "Training tai... with 3 states and 6 mixtures\n",
      "Training tang... with 3 states and 6 mixtures\n",
      "Training nhanh... with 3 states and 6 mixtures\n"
     ]
    },
    {
     "name": "stderr",
     "output_type": "stream",
     "text": [
      "Model is not converging.  Current: -216487.628204332 is not greater than -216487.53014748744. Delta is -0.09805684455204755\n"
     ]
    },
    {
     "name": "stdout",
     "output_type": "stream",
     "text": [
      "Training cham... with 3 states and 6 mixtures\n",
      "Training sai... with 3 states and 6 mixtures\n",
      "Training hai... with 3 states and 6 mixtures\n",
      "Training ba... with 3 states and 6 mixtures\n",
      "Training nam... with 3 states and 6 mixtures\n",
      "Training bay... with 3 states and 6 mixtures\n",
      "Training tam... with 3 states and 6 mixtures\n",
      "Training a... with 3 states and 6 mixtures\n",
      "Evaluating...\n"
     ]
    },
    {
     "name": "stderr",
     "output_type": "stream",
     "text": [
      "Training:  20%|██        | 1/5 [00:30<02:02, 30.69s/it]"
     ]
    },
    {
     "name": "stdout",
     "output_type": "stream",
     "text": [
      "Training tai... with 3 states and 6 mixtures\n",
      "Training tang... with 3 states and 6 mixtures\n",
      "Training nhanh... with 3 states and 6 mixtures\n",
      "Training cham... with 3 states and 6 mixtures\n",
      "Training sai... with 3 states and 6 mixtures\n",
      "Training hai... with 3 states and 6 mixtures\n",
      "Training ba... with 3 states and 6 mixtures\n",
      "Training nam... with 3 states and 6 mixtures\n",
      "Training bay... with 3 states and 6 mixtures\n",
      "Training tam... with 3 states and 6 mixtures\n",
      "Training a... with 3 states and 6 mixtures\n",
      "Evaluating...\n"
     ]
    },
    {
     "name": "stderr",
     "output_type": "stream",
     "text": [
      "Training:  40%|████      | 2/5 [01:06<01:40, 33.57s/it]"
     ]
    },
    {
     "name": "stdout",
     "output_type": "stream",
     "text": [
      "Training tai... with 3 states and 6 mixtures\n",
      "Training tang... with 3 states and 6 mixtures\n",
      "Training nhanh... with 3 states and 6 mixtures\n",
      "Training cham... with 3 states and 6 mixtures\n",
      "Training sai... with 3 states and 6 mixtures\n",
      "Training hai... with 3 states and 6 mixtures\n",
      "Training ba... with 3 states and 6 mixtures\n",
      "Training nam... with 3 states and 6 mixtures\n",
      "Training bay... with 3 states and 6 mixtures\n",
      "Training tam... with 3 states and 6 mixtures\n",
      "Training a... with 3 states and 6 mixtures\n",
      "Evaluating...\n"
     ]
    },
    {
     "name": "stderr",
     "output_type": "stream",
     "text": [
      "Training:  60%|██████    | 3/5 [01:34<01:01, 30.99s/it]"
     ]
    },
    {
     "name": "stdout",
     "output_type": "stream",
     "text": [
      "Training tai... with 3 states and 6 mixtures\n",
      "Training tang... with 3 states and 6 mixtures\n",
      "Training nhanh... with 3 states and 6 mixtures\n",
      "Training cham... with 3 states and 6 mixtures\n",
      "Training sai... with 3 states and 6 mixtures\n",
      "Training hai... with 3 states and 6 mixtures\n",
      "Training ba... with 3 states and 6 mixtures\n",
      "Training nam... with 3 states and 6 mixtures\n",
      "Training bay... with 3 states and 6 mixtures\n",
      "Training tam... with 3 states and 6 mixtures\n",
      "Training a... with 3 states and 6 mixtures\n",
      "Evaluating...\n"
     ]
    },
    {
     "name": "stderr",
     "output_type": "stream",
     "text": [
      "Training:  80%|████████  | 4/5 [02:16<00:35, 35.52s/it]"
     ]
    },
    {
     "name": "stdout",
     "output_type": "stream",
     "text": [
      "Training tai... with 3 states and 6 mixtures\n",
      "Training tang... with 3 states and 6 mixtures\n",
      "Training nhanh... with 3 states and 6 mixtures\n",
      "Training cham... with 3 states and 6 mixtures\n",
      "Training sai... with 3 states and 6 mixtures\n",
      "Training hai... with 3 states and 6 mixtures\n",
      "Training ba... with 3 states and 6 mixtures\n",
      "Training nam... with 3 states and 6 mixtures\n",
      "Training bay... with 3 states and 6 mixtures\n",
      "Training tam... with 3 states and 6 mixtures\n",
      "Training a... with 3 states and 6 mixtures\n",
      "Evaluating...\n"
     ]
    },
    {
     "name": "stderr",
     "output_type": "stream",
     "text": [
      "Training: 100%|██████████| 5/5 [02:48<00:00, 33.60s/it]\n"
     ]
    },
    {
     "data": {
      "image/png": "[encoded data removed]",
      "text/plain": [
       "<Figure size 1000x800 with 2 Axes>"
      ]
     },
     "metadata": {},
     "output_type": "display_data"
    },
    {
     "name": "stdout",
     "output_type": "stream",
     "text": [
      "Overall accuracy: 0.83\n"
     ]
    }
   ],
   "source": [
    "all_y_true = []\n",
    "all_y_pred = []\n",
    "overall_acc_avg = 0.0\n",
    "\n",
    "for i in tqdm(range(k_fold), desc='Training', position=0):\n",
    "    # Huấn luyện mô hình cho từng fold\n",
    "    models, likelihoods = train(X_folds[i], class_names, states, n_mixs)\n",
    "\n",
    "    # Đánh giá mô hình\n",
    "    y_true, y_pred = evaluation(models, X_folds[i], y_folds[i], class_names)\n",
    "    \n",
    "    # Tổng hợp nhãn dự đoán và thực tế\n",
    "    all_y_true.extend(y_true)\n",
    "    all_y_pred.extend(y_pred)\n",
    "    \n",
    "    # Accuracy cho fold hiện tại\n",
    "    fold_acc = np.sum(np.array(y_true) == np.array(y_pred)) / len(y_true)\n",
    "    overall_acc_avg += fold_acc\n",
    "\n",
    "# Accuracy tổng thể\n",
    "overall_acc_avg /= k_fold\n",
    "\n",
    "# Tính ma trận nhầm lẫn tổng thể\n",
    "cm = confusion_matrix(all_y_true, all_y_pred, labels=range(len(class_names)))\n",
    "\n",
    "# Vẽ ma trận nhầm lẫn\n",
    "plt.figure(figsize=(10, 8))\n",
    "sns.heatmap(cm, annot=True, fmt='d', cmap='Blues', xticklabels=class_names, yticklabels=class_names)\n",
    "plt.xlabel('Predicted')\n",
    "plt.ylabel('True')\n",
    "plt.title('Confusion Matrix')\n",
    "plt.show()\n",
    "\n",
    "print(f'Overall accuracy: {overall_acc_avg:.2f}')"
   ]
  }
 ],
 "metadata": {
  "kernelspec": {
   "display_name": ".venv",
   "language": "python",
   "name": "python3"
  },
  "language_info": {
   "codemirror_mode": {
    "name": "ipython",
    "version": 3
   },
   "file_extension": ".py",
   "mimetype": "text/x-python",
   "name": "python",
   "nbconvert_exporter": "python",
   "pygments_lexer": "ipython3",
   "version": "3.11.3"
  }
 },
 "nbformat": 4,
 "nbformat_minor": 2
}
